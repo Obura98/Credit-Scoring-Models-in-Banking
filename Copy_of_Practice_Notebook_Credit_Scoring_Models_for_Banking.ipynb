{
  "nbformat": 4,
  "nbformat_minor": 0,
  "metadata": {
    "colab": {
      "name": "Copy of Practice Notebook: Credit Scoring Models for Banking",
      "provenance": [],
      "collapsed_sections": [
        "bN9Hn-5UcN4b",
        "rkdaD8dG229Q",
        "fBrgP4Su5mMt",
        "FjnfSF1O508T"
      ],
      "toc_visible": true,
      "include_colab_link": true
    },
    "kernelspec": {
      "name": "python3",
      "display_name": "Python 3"
    }
  },
  "cells": [
    {
      "cell_type": "markdown",
      "metadata": {
        "id": "view-in-github",
        "colab_type": "text"
      },
      "source": [
        "<a href=\"https://colab.research.google.com/github/Obura98/Credit-Scoring-Models-in-Banking/blob/main/Copy_of_Practice_Notebook_Credit_Scoring_Models_for_Banking.ipynb\" target=\"_parent\"><img src=\"https://colab.research.google.com/assets/colab-badge.svg\" alt=\"Open In Colab\"/></a>"
      ]
    },
    {
      "cell_type": "markdown",
      "metadata": {
        "id": "47QIECbq4orp"
      },
      "source": [
        "# Credit Scoring Models in  Banking"
      ]
    },
    {
      "cell_type": "markdown",
      "metadata": {
        "id": "jz7EQjs35RQC"
      },
      "source": [
        "## Logistic Regression "
      ]
    },
    {
      "cell_type": "markdown",
      "metadata": {
        "id": "gkBOG9_h6PKS"
      },
      "source": [
        "### Example"
      ]
    },
    {
      "cell_type": "markdown",
      "metadata": {
        "id": "p_nGg6z0Ie7L"
      },
      "source": [
        "When a bank receives a loan application, based on the applicant’s profile the bank has to make a decision regarding whether to go ahead with the loan approval or not. Create a logistic regression model given a dataset with the following variables."
      ]
    },
    {
      "cell_type": "markdown",
      "metadata": {
        "id": "6kAoEzYDHh3n"
      },
      "source": [
        "\n",
        "Below is the glossary for the given dataset:\n",
        "*   Age (numeric) \n",
        "*   Sex (text: male, female)\n",
        "*   Job (numeric: 0 - unskilled and non-resident, 1 - unskilled and resident, 2 - skilled, 3 - highly skilled)\n",
        "*   Housing (text: own, rent, or free)\n",
        "*   Saving accounts (text - little, moderate, quite rich, rich)\n",
        "*   Checking account (numeric, in DM - Deutsch Mark)\n",
        "*   Credit amount (numeric, in DM)\n",
        "*   Duration (numeric, in month)\n",
        "*   Purpose (text: car, furniture/equipment, radio/TV, domestic appliances, repairs, education, business, vacation/others)\n",
        "*   Risk (Value target - Good or Bad Risk)\n",
        "\n"
      ]
    },
    {
      "cell_type": "markdown",
      "metadata": {
        "id": "Yy0Kwwg43_HN"
      },
      "source": [
        "#### Importing Required Libraries"
      ]
    },
    {
      "cell_type": "markdown",
      "metadata": {
        "id": "kRdbFL9sqcWM"
      },
      "source": [
        "We will first import the python libraries that we will need for performing our analysis."
      ]
    },
    {
      "cell_type": "code",
      "metadata": {
        "id": "f7RU2KnoHO3r"
      },
      "source": [
        "# Importing standard libraries\n",
        "import pandas as pd               # library for data manipulation and analysis\n",
        "import numpy as np                # library for performin scientific computations\n",
        "import matplotlib.pyplot as plt   # library for creating basic visualisations\n",
        "import seaborn as sns             # library for creating rich data visualisations\n",
        "\n",
        "import warnings\n",
        "warnings.simplefilter(action='ignore', category=FutureWarning)\n",
        "from pandas_profiling import ProfileReport\n"
      ],
      "execution_count": null,
      "outputs": []
    },
    {
      "cell_type": "markdown",
      "metadata": {
        "id": "s5W5F3084Ccc"
      },
      "source": [
        "#### Loading Our Dataset"
      ]
    },
    {
      "cell_type": "code",
      "metadata": {
        "id": "GJ2IK6gB6PKV",
        "colab": {
          "base_uri": "https://localhost:8080/",
          "height": 195
        },
        "outputId": "436e78ea-2009-4927-df76-a42cf19b4b69"
      },
      "source": [
        "# Importing Dataset for the given URL\n",
        "# ---\n",
        "# Dataset URL = https://bit.ly/35AyjFR\n",
        "# ---\n",
        "#\n",
        "\n",
        "# reading our dataset from a URL and storing contents in a dataframe (tabular datastructure)\n",
        "df = pd.read_csv('https://bit.ly/35AyjFR')\n",
        "\n",
        "# previewing the dataframe\n",
        "df.head()"
      ],
      "execution_count": null,
      "outputs": [
        {
          "output_type": "execute_result",
          "data": {
            "text/html": [
              "<div>\n",
              "<style scoped>\n",
              "    .dataframe tbody tr th:only-of-type {\n",
              "        vertical-align: middle;\n",
              "    }\n",
              "\n",
              "    .dataframe tbody tr th {\n",
              "        vertical-align: top;\n",
              "    }\n",
              "\n",
              "    .dataframe thead th {\n",
              "        text-align: right;\n",
              "    }\n",
              "</style>\n",
              "<table border=\"1\" class=\"dataframe\">\n",
              "  <thead>\n",
              "    <tr style=\"text-align: right;\">\n",
              "      <th></th>\n",
              "      <th>Unnamed: 0</th>\n",
              "      <th>Age</th>\n",
              "      <th>Sex</th>\n",
              "      <th>Job</th>\n",
              "      <th>Housing</th>\n",
              "      <th>Saving accounts</th>\n",
              "      <th>Checking account</th>\n",
              "      <th>Credit amount</th>\n",
              "      <th>Duration</th>\n",
              "      <th>Purpose</th>\n",
              "      <th>Risk</th>\n",
              "    </tr>\n",
              "  </thead>\n",
              "  <tbody>\n",
              "    <tr>\n",
              "      <th>0</th>\n",
              "      <td>0</td>\n",
              "      <td>67</td>\n",
              "      <td>male</td>\n",
              "      <td>2</td>\n",
              "      <td>own</td>\n",
              "      <td>NaN</td>\n",
              "      <td>little</td>\n",
              "      <td>1169</td>\n",
              "      <td>6</td>\n",
              "      <td>radio/TV</td>\n",
              "      <td>good</td>\n",
              "    </tr>\n",
              "    <tr>\n",
              "      <th>1</th>\n",
              "      <td>1</td>\n",
              "      <td>22</td>\n",
              "      <td>female</td>\n",
              "      <td>2</td>\n",
              "      <td>own</td>\n",
              "      <td>little</td>\n",
              "      <td>moderate</td>\n",
              "      <td>5951</td>\n",
              "      <td>48</td>\n",
              "      <td>radio/TV</td>\n",
              "      <td>bad</td>\n",
              "    </tr>\n",
              "    <tr>\n",
              "      <th>2</th>\n",
              "      <td>2</td>\n",
              "      <td>49</td>\n",
              "      <td>male</td>\n",
              "      <td>1</td>\n",
              "      <td>own</td>\n",
              "      <td>little</td>\n",
              "      <td>NaN</td>\n",
              "      <td>2096</td>\n",
              "      <td>12</td>\n",
              "      <td>education</td>\n",
              "      <td>good</td>\n",
              "    </tr>\n",
              "    <tr>\n",
              "      <th>3</th>\n",
              "      <td>3</td>\n",
              "      <td>45</td>\n",
              "      <td>male</td>\n",
              "      <td>2</td>\n",
              "      <td>free</td>\n",
              "      <td>little</td>\n",
              "      <td>little</td>\n",
              "      <td>7882</td>\n",
              "      <td>42</td>\n",
              "      <td>furniture/equipment</td>\n",
              "      <td>good</td>\n",
              "    </tr>\n",
              "    <tr>\n",
              "      <th>4</th>\n",
              "      <td>4</td>\n",
              "      <td>53</td>\n",
              "      <td>male</td>\n",
              "      <td>2</td>\n",
              "      <td>free</td>\n",
              "      <td>little</td>\n",
              "      <td>little</td>\n",
              "      <td>4870</td>\n",
              "      <td>24</td>\n",
              "      <td>car</td>\n",
              "      <td>bad</td>\n",
              "    </tr>\n",
              "  </tbody>\n",
              "</table>\n",
              "</div>"
            ],
            "text/plain": [
              "   Unnamed: 0  Age     Sex  ...  Duration              Purpose  Risk\n",
              "0           0   67    male  ...         6             radio/TV  good\n",
              "1           1   22  female  ...        48             radio/TV   bad\n",
              "2           2   49    male  ...        12            education  good\n",
              "3           3   45    male  ...        42  furniture/equipment  good\n",
              "4           4   53    male  ...        24                  car   bad\n",
              "\n",
              "[5 rows x 11 columns]"
            ]
          },
          "metadata": {
            "tags": []
          },
          "execution_count": 2
        }
      ]
    },
    {
      "cell_type": "markdown",
      "metadata": {
        "id": "qfNEnBw637RZ"
      },
      "source": [
        "#### Data Exploration"
      ]
    },
    {
      "cell_type": "code",
      "metadata": {
        "id": "mKx5Wmo99fYy",
        "colab": {
          "base_uri": "https://localhost:8080/"
        },
        "outputId": "298776c2-6e20-4194-fc00-957d169f4e50"
      },
      "source": [
        "# determining the shape of the dataset / by shape we mean size\n",
        "df.shape"
      ],
      "execution_count": null,
      "outputs": [
        {
          "output_type": "execute_result",
          "data": {
            "text/plain": [
              "(1000, 11)"
            ]
          },
          "metadata": {
            "tags": []
          },
          "execution_count": 3
        }
      ]
    },
    {
      "cell_type": "markdown",
      "metadata": {
        "id": "DG5a-q944dRI"
      },
      "source": [
        "**Observation:** Our dataset contains 1000 records, 10 variables."
      ]
    },
    {
      "cell_type": "code",
      "metadata": {
        "id": "peRI1Mzy4V44",
        "colab": {
          "base_uri": "https://localhost:8080/",
          "height": 284
        },
        "outputId": "48a94e45-9b3a-44b1-906d-09b8cc7b979a"
      },
      "source": [
        "# generating a statistical summary of numerical variables\n",
        "df.describe()"
      ],
      "execution_count": null,
      "outputs": [
        {
          "output_type": "execute_result",
          "data": {
            "text/html": [
              "<div>\n",
              "<style scoped>\n",
              "    .dataframe tbody tr th:only-of-type {\n",
              "        vertical-align: middle;\n",
              "    }\n",
              "\n",
              "    .dataframe tbody tr th {\n",
              "        vertical-align: top;\n",
              "    }\n",
              "\n",
              "    .dataframe thead th {\n",
              "        text-align: right;\n",
              "    }\n",
              "</style>\n",
              "<table border=\"1\" class=\"dataframe\">\n",
              "  <thead>\n",
              "    <tr style=\"text-align: right;\">\n",
              "      <th></th>\n",
              "      <th>Unnamed: 0</th>\n",
              "      <th>Age</th>\n",
              "      <th>Job</th>\n",
              "      <th>Credit amount</th>\n",
              "      <th>Duration</th>\n",
              "    </tr>\n",
              "  </thead>\n",
              "  <tbody>\n",
              "    <tr>\n",
              "      <th>count</th>\n",
              "      <td>1000.000000</td>\n",
              "      <td>1000.000000</td>\n",
              "      <td>1000.000000</td>\n",
              "      <td>1000.000000</td>\n",
              "      <td>1000.000000</td>\n",
              "    </tr>\n",
              "    <tr>\n",
              "      <th>mean</th>\n",
              "      <td>499.500000</td>\n",
              "      <td>35.546000</td>\n",
              "      <td>1.904000</td>\n",
              "      <td>3271.258000</td>\n",
              "      <td>20.903000</td>\n",
              "    </tr>\n",
              "    <tr>\n",
              "      <th>std</th>\n",
              "      <td>288.819436</td>\n",
              "      <td>11.375469</td>\n",
              "      <td>0.653614</td>\n",
              "      <td>2822.736876</td>\n",
              "      <td>12.058814</td>\n",
              "    </tr>\n",
              "    <tr>\n",
              "      <th>min</th>\n",
              "      <td>0.000000</td>\n",
              "      <td>19.000000</td>\n",
              "      <td>0.000000</td>\n",
              "      <td>250.000000</td>\n",
              "      <td>4.000000</td>\n",
              "    </tr>\n",
              "    <tr>\n",
              "      <th>25%</th>\n",
              "      <td>249.750000</td>\n",
              "      <td>27.000000</td>\n",
              "      <td>2.000000</td>\n",
              "      <td>1365.500000</td>\n",
              "      <td>12.000000</td>\n",
              "    </tr>\n",
              "    <tr>\n",
              "      <th>50%</th>\n",
              "      <td>499.500000</td>\n",
              "      <td>33.000000</td>\n",
              "      <td>2.000000</td>\n",
              "      <td>2319.500000</td>\n",
              "      <td>18.000000</td>\n",
              "    </tr>\n",
              "    <tr>\n",
              "      <th>75%</th>\n",
              "      <td>749.250000</td>\n",
              "      <td>42.000000</td>\n",
              "      <td>2.000000</td>\n",
              "      <td>3972.250000</td>\n",
              "      <td>24.000000</td>\n",
              "    </tr>\n",
              "    <tr>\n",
              "      <th>max</th>\n",
              "      <td>999.000000</td>\n",
              "      <td>75.000000</td>\n",
              "      <td>3.000000</td>\n",
              "      <td>18424.000000</td>\n",
              "      <td>72.000000</td>\n",
              "    </tr>\n",
              "  </tbody>\n",
              "</table>\n",
              "</div>"
            ],
            "text/plain": [
              "        Unnamed: 0          Age          Job  Credit amount     Duration\n",
              "count  1000.000000  1000.000000  1000.000000    1000.000000  1000.000000\n",
              "mean    499.500000    35.546000     1.904000    3271.258000    20.903000\n",
              "std     288.819436    11.375469     0.653614    2822.736876    12.058814\n",
              "min       0.000000    19.000000     0.000000     250.000000     4.000000\n",
              "25%     249.750000    27.000000     2.000000    1365.500000    12.000000\n",
              "50%     499.500000    33.000000     2.000000    2319.500000    18.000000\n",
              "75%     749.250000    42.000000     2.000000    3972.250000    24.000000\n",
              "max     999.000000    75.000000     3.000000   18424.000000    72.000000"
            ]
          },
          "metadata": {
            "tags": []
          },
          "execution_count": 4
        }
      ]
    },
    {
      "cell_type": "markdown",
      "metadata": {
        "id": "s7AhAiFk4jM1"
      },
      "source": [
        "**Observation:** We can see that we not have any missing values since all variables have the same no. of count."
      ]
    },
    {
      "cell_type": "code",
      "metadata": {
        "id": "SPFv02pk585O",
        "colab": {
          "base_uri": "https://localhost:8080/",
          "height": 221
        },
        "outputId": "ea8dd4f1-4699-4956-98a2-191c6e92c473"
      },
      "source": [
        "# checking the data types: Object = string, int64 = integers\n",
        "df.dtypes"
      ],
      "execution_count": null,
      "outputs": [
        {
          "output_type": "execute_result",
          "data": {
            "text/plain": [
              "Unnamed: 0           int64\n",
              "Age                  int64\n",
              "Sex                 object\n",
              "Job                  int64\n",
              "Housing             object\n",
              "Saving accounts     object\n",
              "Checking account    object\n",
              "Credit amount        int64\n",
              "Duration             int64\n",
              "Purpose             object\n",
              "Risk                object\n",
              "dtype: object"
            ]
          },
          "metadata": {
            "tags": []
          },
          "execution_count": 5
        }
      ]
    },
    {
      "cell_type": "code",
      "metadata": {
        "id": "r-Dlk4TUPBlL"
      },
      "source": [
        "# dropping 'Unnamed: 0' variable: \n",
        "df = df.drop(columns = ['Unnamed: 0'])"
      ],
      "execution_count": null,
      "outputs": []
    },
    {
      "cell_type": "markdown",
      "metadata": {
        "id": "UE9CmUaIPDd6"
      },
      "source": [
        "We drop this variable because it has no meaning."
      ]
    },
    {
      "cell_type": "code",
      "metadata": {
        "id": "BiihvKotNgak",
        "colab": {
          "base_uri": "https://localhost:8080/",
          "height": 1000
        },
        "outputId": "542d53c1-6596-4f50-ec2c-f1481f110eae"
      },
      "source": [
        "# getting the unique values of each variable\n",
        "cols = df.columns.to_list()\n",
        "\n",
        "for col in cols:\n",
        "    print(\"Variable:\", col)\n",
        "    print(\"Number of unique values:\", df[col].nunique())\n",
        "    print(df[col].unique())\n",
        "    print()"
      ],
      "execution_count": null,
      "outputs": [
        {
          "output_type": "stream",
          "text": [
            "Variable: Age\n",
            "Number of unique values: 53\n",
            "[67 22 49 45 53 35 61 28 25 24 60 32 44 31 48 26 36 39 42 34 63 27 30 57\n",
            " 33 37 58 23 29 52 50 46 51 41 40 66 47 56 54 20 21 38 70 65 74 68 43 55\n",
            " 64 75 19 62 59]\n",
            "\n",
            "Variable: Sex\n",
            "Number of unique values: 2\n",
            "['male' 'female']\n",
            "\n",
            "Variable: Job\n",
            "Number of unique values: 4\n",
            "[2 1 3 0]\n",
            "\n",
            "Variable: Housing\n",
            "Number of unique values: 3\n",
            "['own' 'free' 'rent']\n",
            "\n",
            "Variable: Saving accounts\n",
            "Number of unique values: 4\n",
            "[nan 'little' 'quite rich' 'rich' 'moderate']\n",
            "\n",
            "Variable: Checking account\n",
            "Number of unique values: 3\n",
            "['little' 'moderate' nan 'rich']\n",
            "\n",
            "Variable: Credit amount\n",
            "Number of unique values: 921\n",
            "[ 1169  5951  2096  7882  4870  9055  2835  6948  3059  5234  1295  4308\n",
            "  1567  1199  1403  1282  2424  8072 12579  3430  2134  2647  2241  1804\n",
            "  2069  1374   426   409  2415  6836  1913  4020  5866  1264  1474  4746\n",
            "  6110  2100  1225   458  2333  1158  6204  6187  6143  1393  2299  1352\n",
            "  7228  2073  5965  1262  3378  2225   783  6468  9566  1961  6229  1391\n",
            "  1537  1953 14421  3181  5190  2171  1007  1819  2394  8133   730  1164\n",
            "  5954  1977  1526  3965  4771  9436  3832  5943  1213  1568  1755  2315\n",
            "  1412 12612  2249  1108   618  1409   797  3617  1318 15945  2012  2622\n",
            "  2337  7057  1469  2323   932  1919  2445 11938  6458  6078  7721  1410\n",
            "  1449   392  6260  7855  1680  3578  7174  2132  4281  2366  1835  3868\n",
            "  1768   781  1924  2121   701   639  1860  3499  8487  6887  2708  1984\n",
            " 10144  1240  8613   766  2728  1881   709  4795  3416  2462  2288  3566\n",
            "   860   682  5371  1582  1346  5848  7758  6967  1288   339  3512  1898\n",
            "  2872  1055  7308   909  2978  1131  1577  3972  1935   950   763  2064\n",
            "  1414  3414  7485  2577   338  1963   571  9572  4455  1647  3777   884\n",
            "  1360  5129  1175   674  3244  4591  3844  3915  2108  3031  1501  1382\n",
            "   951  2760  4297   936  1168  5117   902  1495 10623  1424  6568  1413\n",
            "  3074  3835  5293  1908  3342  3104  3913  3021  1364   625  1200   707\n",
            "  4657  2613 10961  7865  1478  3149  4210  2507  2141   866  1544  1823\n",
            " 14555  2767  1291  2522   915  1595  4605  1185  3447  1258   717  1204\n",
            "  1925   433   666  2251  2150  4151  2030  7418  2684  2149  3812  1154\n",
            "  1657  1603  5302  2748  1231   802  6304  1533  8978   999  2662  1402\n",
            " 12169  3060 11998  2697  2404  4611  1901  3368  1574  1445  1520  3878\n",
            " 10722  4788  7582  1092  1024  1076  9398  6419  4796  7629  9960  4675\n",
            "  1287  2515  2745   672  3804  1344  1038 10127  1543  4811   727  1237\n",
            "   276  5381  5511  3749   685  1494  2746   708  4351  3643  4249  1938\n",
            "  2910  2659  1028  3398  5801  1525  4473  1068  6615  1864  7408 11590\n",
            "  4110  3384  2101  1275  4169  1521  5743  3599  3213  4439  3949  1459\n",
            "   882  3758  1743  1136  1236   959  3229  6199  1246  2331  4463   776\n",
            "  2406  1239  3399  2247  1766  2473  1542  3850  3650  3446  3001  3079\n",
            "  6070  2146 13756 14782  7685  2320   846 14318   362  2212 12976  1283\n",
            "  1330  4272  2238  1126  7374  2326  1820   983  3249  1957 11760  2578\n",
            "  2348  1223  1516  1473  1887  8648  2899  2039  2197  1053  3235   939\n",
            "  1967  7253  2292  1597  1381  5842  2579  8471  2782  1042  3186  2028\n",
            "   958  1591  2762  2779  2743  1149  1313  1190  3448 11328  1872  2058\n",
            "  2136  1484   660  3394   609  1884  1620  2629   719  5096  1244  1842\n",
            "  2576  1512 11054   518  2759  2670  4817  2679  3905  3386   343  4594\n",
            "  3620  1721  3017   754  1950  2924  1659  7238  2764  4679  3092   448\n",
            "   654  1238  1245  3114  2569  5152  1037  3573  1201  3622   960  1163\n",
            "  1209  3077  3757  1418  3518  1934  8318   368  2122  2996  9034  1585\n",
            "  1301  1323  3123  5493  1216  1207  1309  2360  6850  8588   759  4686\n",
            "  2687   585  2255  1361  7127  1203   700  5507  3190  7119  3488  1113\n",
            "  7966  1532  1503  2302   662  2273  2631  1311  3105  2319  3612  7763\n",
            "  3049  1534  2032  6350  2864  1255  1333  2022  1552   626  8858   996\n",
            "  1750  6999  1995  1331  2278  5003  3552  1928  2964  1546   683 12389\n",
            "  4712  1553  1372  3979  6758  3234  5433   806  1082  2788  2930  1927\n",
            "  2820   937  1056  3124  1388  2384  2133  2799  1289  1217  2246   385\n",
            "  1965  1572  2718  1358   931  1442  4241  2775  3863  2329   918  1837\n",
            "  3349  2828  4526  2671  2051  1300   741  3357  3632  1808 12204  9157\n",
            "  3676  3441   640  3652  1530  3914  1858  2600  1979  2116  1437  4042\n",
            "  3660  1444  1980  1355  1376 15653  1493  4370   750  1308  4623  1851\n",
            "  1880  7980  4583  1386   947   684  7476  1922  2303  8086  2346  3973\n",
            "   888 10222  4221  6361  1297   900  1050  1047  6314  3496  3609  4843\n",
            "  4139  5742 10366  2080  2580  4530  5150  5595  1453  1538  2279  5103\n",
            "  9857  6527  1347  2862  2753  3651   975  2896  4716  2284  1103   926\n",
            "  1800  1905  1123  6331  1377  2503  2528  5324  6560  2969  1206  2118\n",
            "   629  1198  2476  1138 14027  7596  1505  3148  6148  1337  1228   790\n",
            "  2570   250  1316  1882  6416  6403  1987   760  2603  3380  3990 11560\n",
            "  4380  6761  4280  2325  1048  3160  2483 14179  1797  2511  1274  5248\n",
            "  3029   428   976   841  5771  1555  1285  1299  1271   691  5045  2124\n",
            "  2214 12680  2463  1155  3108  2901  1655  2812  8065  3275  2223  1480\n",
            "  1371  3535  3509  5711  3872  4933  1940   836  1941  2675  2751  6224\n",
            "  5998  1188  6313  1221  2892  3062  2301  7511  1549  1795  7472  9271\n",
            "   590   930  9283  1778   907   484  9629  3051  3931  7432  1338  1554\n",
            " 15857  1345  1101  3016  2712   731  3780  1602  3966  4165  8335  6681\n",
            "  2375 11816  5084  2327   886   601  2957  2611  5179  2993  1943  1559\n",
            "  3422  3976  1249  2235  1471 10875   894  3343  3959  3577  5804  2169\n",
            "  2439  2210  2221  2389  3331  7409   652  7678  1343   874  3590  1322\n",
            "  3595  1422  6742  7814  9277  2181  1098  4057   795  2825 15672  6614\n",
            "  7824  2442  1829  5800  8947  2606  1592  2186  4153  2625  3485 10477\n",
            "  1278  1107  3763  3711  3594  3195  4454  4736  2991  2142  3161 18424\n",
            "  2848 14896  2359  3345  1817 12749  1366  2002  6872   697  1049 10297\n",
            "  1867  1747  1670  1224   522  1498   745  2063  6288  6842  3527   929\n",
            "  1455  1845  8358  2859  3621  2145  4113 10974  1893  3656  4006  3069\n",
            "  1740  2353  3556  2397   454  1715  2520  3568  7166  3939  1514  7393\n",
            "  1193  7297  2831   753  2427  2538  8386  4844  2923  8229  1433  6289\n",
            "  6579  3565  1569  1936  2390  1736  3857   804  4576]\n",
            "\n",
            "Variable: Duration\n",
            "Number of unique values: 33\n",
            "[ 6 48 12 42 24 36 30 15  9 10  7 60 18 45 11 27  8 54 20 14 33 21 16  4\n",
            " 47 13 22 39 28  5 26 72 40]\n",
            "\n",
            "Variable: Purpose\n",
            "Number of unique values: 8\n",
            "['radio/TV' 'education' 'furniture/equipment' 'car' 'business'\n",
            " 'domestic appliances' 'repairs' 'vacation/others']\n",
            "\n",
            "Variable: Risk\n",
            "Number of unique values: 2\n",
            "['good' 'bad']\n",
            "\n"
          ],
          "name": "stdout"
        }
      ]
    },
    {
      "cell_type": "markdown",
      "metadata": {
        "id": "mjiFDjoqPSxS"
      },
      "source": [
        "**Observation:** This gives us a sense of which unique values exists within our variables. We can see that the savings account variable has a nan unique value. This is a hint that we have missing values."
      ]
    },
    {
      "cell_type": "code",
      "metadata": {
        "id": "wXNroKd1SGts",
        "colab": {
          "base_uri": "https://localhost:8080/",
          "height": 204
        },
        "outputId": "62e9b1ff-5f0d-44ab-fe3e-4b3b2aea1bda"
      },
      "source": [
        "# check for missing values\n",
        "df.isna().sum()"
      ],
      "execution_count": null,
      "outputs": [
        {
          "output_type": "execute_result",
          "data": {
            "text/plain": [
              "Age                   0\n",
              "Sex                   0\n",
              "Job                   0\n",
              "Housing               0\n",
              "Saving accounts     183\n",
              "Checking account    394\n",
              "Credit amount         0\n",
              "Duration              0\n",
              "Purpose               0\n",
              "Risk                  0\n",
              "dtype: int64"
            ]
          },
          "metadata": {
            "tags": []
          },
          "execution_count": 8
        }
      ]
    },
    {
      "cell_type": "markdown",
      "metadata": {
        "id": "yVk1gtivSQcq"
      },
      "source": [
        "**Observation:** It seems that we have lots of missing values in the Savings accounts and Checking account variables. From the dataset, we can infer that the missing values are as a result of having persons who took credit from the bank but didn't have a savings accounts or checking account. Thus, we will save these missing values as \"NoSavingAccount\" and \"NoCheckingAccount\"."
      ]
    },
    {
      "cell_type": "code",
      "metadata": {
        "id": "7S6PqdxMfPCd"
      },
      "source": [
        "# dealing with missing values\n",
        "df[\"Saving accounts\"].fillna('NoSavingAcc', inplace= True)\n",
        "df[\"Checking account\"].fillna('NoCheckAcc', inplace= True)"
      ],
      "execution_count": null,
      "outputs": []
    },
    {
      "cell_type": "code",
      "metadata": {
        "id": "ziUNDtRwfaL7",
        "colab": {
          "base_uri": "https://localhost:8080/",
          "height": 204
        },
        "outputId": "aaedd14d-a3a8-4e7a-d654-2e6cac967bdb"
      },
      "source": [
        "# check for missing values\n",
        "df.isna().sum()"
      ],
      "execution_count": null,
      "outputs": [
        {
          "output_type": "execute_result",
          "data": {
            "text/plain": [
              "Age                 0\n",
              "Sex                 0\n",
              "Job                 0\n",
              "Housing             0\n",
              "Saving accounts     0\n",
              "Checking account    0\n",
              "Credit amount       0\n",
              "Duration            0\n",
              "Purpose             0\n",
              "Risk                0\n",
              "dtype: int64"
            ]
          },
          "metadata": {
            "tags": []
          },
          "execution_count": 10
        }
      ]
    },
    {
      "cell_type": "markdown",
      "metadata": {
        "id": "O3dQrxlmferG"
      },
      "source": [
        "**Observation:** We have no missing values. "
      ]
    },
    {
      "cell_type": "code",
      "metadata": {
        "id": "xQu8odLFNwBg",
        "colab": {
          "base_uri": "https://localhost:8080/",
          "height": 483
        },
        "outputId": "644481ec-9061-4714-b485-c94add1cda94"
      },
      "source": [
        "# checking for outliers\n",
        "plt.figure(figsize = (14, 8))\n",
        "df.boxplot()\n",
        "plt.show()"
      ],
      "execution_count": null,
      "outputs": [
        {
          "output_type": "display_data",
          "data": {
            "image/png": "[encoded data removed]",
            "text/plain": [
              "<Figure size 1008x576 with 1 Axes>"
            ]
          },
          "metadata": {
            "tags": [],
            "needs_background": "light"
          }
        }
      ]
    },
    {
      "cell_type": "markdown",
      "metadata": {
        "id": "e2izvGHSUyah"
      },
      "source": [
        "**Observation:** We see that the credit amount variable has outliers. This would be problematic when using a classification technique like logistic regression which assume that there are no outliers in the data. However, we will not remove these outliers as this data can be genuine."
      ]
    },
    {
      "cell_type": "code",
      "metadata": {
        "id": "vc7BV_k3gFQN",
        "colab": {
          "base_uri": "https://localhost:8080/",
          "height": 68
        },
        "outputId": "54d4a6d5-7682-400e-cac4-d0e50e50c804"
      },
      "source": [
        "# standardizing variable names for readability\n",
        "df.columns = df.columns.str.strip().str.lower().str.replace(' ', '_').str.replace('(', '').str.replace(')', '')\n",
        "df.columns"
      ],
      "execution_count": null,
      "outputs": [
        {
          "output_type": "execute_result",
          "data": {
            "text/plain": [
              "Index(['age', 'sex', 'job', 'housing', 'saving_accounts', 'checking_account',\n",
              "       'credit_amount', 'duration', 'purpose', 'risk'],\n",
              "      dtype='object')"
            ]
          },
          "metadata": {
            "tags": []
          },
          "execution_count": 12
        }
      ]
    },
    {
      "cell_type": "markdown",
      "metadata": {
        "id": "fOeGMQ_0untP"
      },
      "source": [
        " We will no perform univariate analysis. This is a type of analysis done only one variable. This type of analysis will be helpful in understanding the characteristics of each variables."
      ]
    },
    {
      "cell_type": "code",
      "metadata": {
        "id": "Yv2P35z2Ogpw",
        "colab": {
          "base_uri": "https://localhost:8080/",
          "height": 281
        },
        "outputId": "943df708-516a-4f23-fe8d-8df96e2843f5"
      },
      "source": [
        "# univariate analysis: age variable\n",
        "sns.distplot(df.age);"
      ],
      "execution_count": null,
      "outputs": [
        {
          "output_type": "display_data",
          "data": {
            "image/png": "[encoded data removed]",
            "text/plain": [
              "<Figure size 432x288 with 1 Axes>"
            ]
          },
          "metadata": {
            "tags": [],
            "needs_background": "light"
          }
        }
      ]
    },
    {
      "cell_type": "markdown",
      "metadata": {
        "id": "ywDDy4dQh2dK"
      },
      "source": [
        "**Observation:** The 'age' variable is not normally distributed. It is skewed to the right."
      ]
    },
    {
      "cell_type": "code",
      "metadata": {
        "id": "y4XDT1d2gduk",
        "colab": {
          "base_uri": "https://localhost:8080/",
          "height": 265
        },
        "outputId": "8613c58d-431b-4a0d-d356-20edce733b6a"
      },
      "source": [
        "# univariate analysis: sex variable\n",
        "plt.figure(figsize = (5, 4))\n",
        "df.sex.value_counts().plot(kind = 'bar', rot = 0);"
      ],
      "execution_count": null,
      "outputs": [
        {
          "output_type": "display_data",
          "data": {
            "image/png": "[encoded data removed]",
            "text/plain": [
              "<Figure size 360x288 with 1 Axes>"
            ]
          },
          "metadata": {
            "tags": [],
            "needs_background": "light"
          }
        }
      ]
    },
    {
      "cell_type": "markdown",
      "metadata": {
        "id": "vm-JKvICu1Ic"
      },
      "source": [
        "**Observation:** There are more male records in our dataset than female records. "
      ]
    },
    {
      "cell_type": "code",
      "metadata": {
        "id": "M0BpXA1piylU",
        "colab": {
          "base_uri": "https://localhost:8080/",
          "height": 265
        },
        "outputId": "dd15a4b3-cbd4-46e5-b244-6a03bb1608a2"
      },
      "source": [
        "# univariate analysis: job variable\n",
        "plt.figure(figsize = (5, 4))\n",
        "df.job.value_counts().plot(kind = 'bar', rot = 0);"
      ],
      "execution_count": null,
      "outputs": [
        {
          "output_type": "display_data",
          "data": {
            "image/png": "[encoded data removed]",
            "text/plain": [
              "<Figure size 360x288 with 1 Axes>"
            ]
          },
          "metadata": {
            "tags": [],
            "needs_background": "light"
          }
        }
      ]
    },
    {
      "cell_type": "code",
      "metadata": {
        "id": "b00gQSXb07f3",
        "colab": {
          "base_uri": "https://localhost:8080/",
          "height": 282
        },
        "outputId": "aaa80b85-f96a-4325-cdf0-178810554b68"
      },
      "source": [
        "df[\"job\"].hist()"
      ],
      "execution_count": null,
      "outputs": [
        {
          "output_type": "execute_result",
          "data": {
            "text/plain": [
              "<matplotlib.axes._subplots.AxesSubplot at 0x7f0aa980c5f8>"
            ]
          },
          "metadata": {
            "tags": []
          },
          "execution_count": 16
        },
        {
          "output_type": "display_data",
          "data": {
            "image/png": "[encoded data removed]",
            "text/plain": [
              "<Figure size 432x288 with 1 Axes>"
            ]
          },
          "metadata": {
            "tags": [],
            "needs_background": "light"
          }
        }
      ]
    },
    {
      "cell_type": "markdown",
      "metadata": {
        "id": "KCm6koxvriLv"
      },
      "source": [
        "**Your observation?**"
      ]
    },
    {
      "cell_type": "code",
      "metadata": {
        "id": "dPeEPofvjre9",
        "colab": {
          "base_uri": "https://localhost:8080/",
          "height": 265
        },
        "outputId": "bfe3f362-52e5-49c8-a339-cad92feea586"
      },
      "source": [
        "# univariate analysis: housing variable\n",
        "plt.figure(figsize = (5, 4))\n",
        "df.housing.value_counts().plot(kind = 'bar', rot = 0);"
      ],
      "execution_count": null,
      "outputs": [
        {
          "output_type": "display_data",
          "data": {
            "image/png": "[encoded data removed]",
            "text/plain": [
              "<Figure size 360x288 with 1 Axes>"
            ]
          },
          "metadata": {
            "tags": [],
            "needs_background": "light"
          }
        }
      ]
    },
    {
      "cell_type": "markdown",
      "metadata": {
        "id": "nyEjTpA-rlYd"
      },
      "source": [
        "**Your observation?**"
      ]
    },
    {
      "cell_type": "code",
      "metadata": {
        "id": "DAu1zXbbjvnm",
        "colab": {
          "base_uri": "https://localhost:8080/",
          "height": 265
        },
        "outputId": "cfe4aa43-06e4-48b4-a267-7d8b1cbb2059"
      },
      "source": [
        "# univariate analysis: checking_account variable\n",
        "plt.figure(figsize = (8, 4))\n",
        "df.saving_accounts.value_counts().plot(kind = 'bar', rot = 0);"
      ],
      "execution_count": null,
      "outputs": [
        {
          "output_type": "display_data",
          "data": {
            "image/png": "[encoded data removed]",
            "text/plain": [
              "<Figure size 576x288 with 1 Axes>"
            ]
          },
          "metadata": {
            "tags": [],
            "needs_background": "light"
          }
        }
      ]
    },
    {
      "cell_type": "markdown",
      "metadata": {
        "id": "JSC54tUVrmnj"
      },
      "source": [
        "**Your observation?**"
      ]
    },
    {
      "cell_type": "code",
      "metadata": {
        "id": "jtbwVqJVjzoT",
        "colab": {
          "base_uri": "https://localhost:8080/",
          "height": 265
        },
        "outputId": "91f66bef-bd2f-42e1-d9ca-552397edcfd9"
      },
      "source": [
        "# univariate analysis: checking_account variable\n",
        "plt.figure(figsize = (5, 4))\n",
        "df.checking_account.value_counts().plot(kind = 'bar', rot = 0);"
      ],
      "execution_count": null,
      "outputs": [
        {
          "output_type": "display_data",
          "data": {
            "image/png": "[encoded data removed]",
            "text/plain": [
              "<Figure size 360x288 with 1 Axes>"
            ]
          },
          "metadata": {
            "tags": [],
            "needs_background": "light"
          }
        }
      ]
    },
    {
      "cell_type": "markdown",
      "metadata": {
        "id": "b9jZrzuhrn1w"
      },
      "source": [
        "**Your observation?**"
      ]
    },
    {
      "cell_type": "code",
      "metadata": {
        "id": "aHsLL97Wj-jC",
        "colab": {
          "base_uri": "https://localhost:8080/",
          "height": 280
        },
        "outputId": "89d82549-8337-4082-cc20-cb235e152208"
      },
      "source": [
        "# univariate analysis: credit_amount variable\n",
        "sns.distplot(df.credit_amount);"
      ],
      "execution_count": null,
      "outputs": [
        {
          "output_type": "display_data",
          "data": {
            "image/png": "[encoded data removed]",
            "text/plain": [
              "<Figure size 432x288 with 1 Axes>"
            ]
          },
          "metadata": {
            "tags": [],
            "needs_background": "light"
          }
        }
      ]
    },
    {
      "cell_type": "markdown",
      "metadata": {
        "id": "zCVs3GnZroy9"
      },
      "source": [
        "**Your observation?**"
      ]
    },
    {
      "cell_type": "code",
      "metadata": {
        "id": "-fEhmb2HkCgl",
        "colab": {
          "base_uri": "https://localhost:8080/",
          "height": 375
        },
        "outputId": "8b6f83a4-af53-4bcd-dc57-4517d49b2b25"
      },
      "source": [
        "# univariate analysis: purpose variable\n",
        "plt.figure(figsize = (15, 6))\n",
        "df.purpose.value_counts().plot(kind = 'bar', rot = 0);"
      ],
      "execution_count": null,
      "outputs": [
        {
          "output_type": "display_data",
          "data": {
            "image/png": "[encoded data removed]",
            "text/plain": [
              "<Figure size 1080x432 with 1 Axes>"
            ]
          },
          "metadata": {
            "tags": [],
            "needs_background": "light"
          }
        }
      ]
    },
    {
      "cell_type": "markdown",
      "metadata": {
        "id": "DrcbkPFDrp-C"
      },
      "source": [
        "**Your observation?**"
      ]
    },
    {
      "cell_type": "code",
      "metadata": {
        "id": "Ja2MYz2HkGDG",
        "colab": {
          "base_uri": "https://localhost:8080/",
          "height": 279
        },
        "outputId": "0d6f9606-4968-4bf1-adcd-6a264ba836ed"
      },
      "source": [
        "# univariate analysis: duration variable\n",
        "sns.distplot(df.duration); "
      ],
      "execution_count": null,
      "outputs": [
        {
          "output_type": "display_data",
          "data": {
            "image/png": "[encoded data removed]",
            "text/plain": [
              "<Figure size 432x288 with 1 Axes>"
            ]
          },
          "metadata": {
            "tags": [],
            "needs_background": "light"
          }
        }
      ]
    },
    {
      "cell_type": "code",
      "metadata": {
        "id": "_pIvBm7ykLnO",
        "colab": {
          "base_uri": "https://localhost:8080/",
          "height": 265
        },
        "outputId": "26d0bffe-98f1-4908-a9d9-2c117c79de1b"
      },
      "source": [
        "# univariate analysis: purpose variable\n",
        "plt.figure(figsize = (5, 4))\n",
        "df.risk.value_counts().plot(kind = 'bar', rot = 0);"
      ],
      "execution_count": null,
      "outputs": [
        {
          "output_type": "display_data",
          "data": {
            "image/png": "[encoded data removed]",
            "text/plain": [
              "<Figure size 360x288 with 1 Axes>"
            ]
          },
          "metadata": {
            "tags": [],
            "needs_background": "light"
          }
        }
      ]
    },
    {
      "cell_type": "markdown",
      "metadata": {
        "id": "gdj-rP3RvF38"
      },
      "source": [
        "We now perform bivariate analysis, which is a type of analysis that involves two variables. The main objective is to understand the relationships between these two types of variables."
      ]
    },
    {
      "cell_type": "markdown",
      "metadata": {
        "id": "0GQWv61lUybk"
      },
      "source": [
        "We will look at the relationship between our target variable 'risk' and the other variables."
      ]
    },
    {
      "cell_type": "code",
      "metadata": {
        "id": "BubQ9fl4nuD_",
        "colab": {
          "base_uri": "https://localhost:8080/",
          "height": 334
        },
        "outputId": "05922b05-6ba2-4e83-ac16-050a9ac23ddc"
      },
      "source": [
        "# bivariate analysis: risk by sex variables\n",
        "plt.figure(figsize = (6, 5))\n",
        "sns.countplot('sex', hue = 'risk', data = df);"
      ],
      "execution_count": null,
      "outputs": [
        {
          "output_type": "display_data",
          "data": {
            "image/png": "[encoded data removed]",
            "text/plain": [
              "<Figure size 432x360 with 1 Axes>"
            ]
          },
          "metadata": {
            "tags": [],
            "needs_background": "light"
          }
        }
      ]
    },
    {
      "cell_type": "code",
      "metadata": {
        "id": "8HaqKlIkmw9E",
        "colab": {
          "base_uri": "https://localhost:8080/",
          "height": 334
        },
        "outputId": "277aa7ba-1def-480a-cec3-9b6c046fe621"
      },
      "source": [
        "# risk by job variables\n",
        "plt.figure(figsize = (6, 5))\n",
        "sns.countplot('job', hue = 'risk', data = df);"
      ],
      "execution_count": null,
      "outputs": [
        {
          "output_type": "display_data",
          "data": {
            "image/png": "[encoded data removed]",
            "text/plain": [
              "<Figure size 432x360 with 1 Axes>"
            ]
          },
          "metadata": {
            "tags": [],
            "needs_background": "light"
          }
        }
      ]
    },
    {
      "cell_type": "code",
      "metadata": {
        "id": "_M9qKruNndm5",
        "colab": {
          "base_uri": "https://localhost:8080/",
          "height": 334
        },
        "outputId": "76a7d14b-a3ce-428f-e840-a351cb3b64f6"
      },
      "source": [
        "# risk by housing variables\n",
        "plt.figure(figsize = (6, 5))\n",
        "sns.countplot('housing', hue = 'risk', data = df);"
      ],
      "execution_count": null,
      "outputs": [
        {
          "output_type": "display_data",
          "data": {
            "image/png": "[encoded data removed]",
            "text/plain": [
              "<Figure size 432x360 with 1 Axes>"
            ]
          },
          "metadata": {
            "tags": [],
            "needs_background": "light"
          }
        }
      ]
    },
    {
      "cell_type": "code",
      "metadata": {
        "id": "BPJyZHqonlJK",
        "colab": {
          "base_uri": "https://localhost:8080/",
          "height": 335
        },
        "outputId": "7d2e6f41-bfd4-494a-da37-0c528adcef55"
      },
      "source": [
        "# risk by checking_account variables\n",
        "plt.figure(figsize = (6, 5))\n",
        "sns.countplot('checking_account', hue = 'risk', data = df);"
      ],
      "execution_count": null,
      "outputs": [
        {
          "output_type": "display_data",
          "data": {
            "image/png": "[encoded data removed]",
            "text/plain": [
              "<Figure size 432x360 with 1 Axes>"
            ]
          },
          "metadata": {
            "tags": [],
            "needs_background": "light"
          }
        }
      ]
    },
    {
      "cell_type": "code",
      "metadata": {
        "id": "jG8pmjKDoZ69",
        "colab": {
          "base_uri": "https://localhost:8080/",
          "height": 334
        },
        "outputId": "d1d26067-5d86-44e7-c2c9-16d3d81549d4"
      },
      "source": [
        "# risk by purpose variables\n",
        "plt.figure(figsize = (15, 5))\n",
        "sns.countplot('purpose', hue = 'risk', data = df);"
      ],
      "execution_count": null,
      "outputs": [
        {
          "output_type": "display_data",
          "data": {
            "image/png": "[encoded data removed]",
            "text/plain": [
              "<Figure size 1080x360 with 1 Axes>"
            ]
          },
          "metadata": {
            "tags": [],
            "needs_background": "light"
          }
        }
      ]
    },
    {
      "cell_type": "code",
      "metadata": {
        "id": "2KLwRq0fqgtk",
        "colab": {
          "base_uri": "https://localhost:8080/",
          "height": 488
        },
        "outputId": "7be46402-cd0f-4f10-b2bf-47876d8a29a4"
      },
      "source": [
        "# heatmap to visualise features with linear relationships \n",
        "plt.figure(figsize = (8, 8))\n",
        "sns.heatmap(df.corr(), annot=True, );"
      ],
      "execution_count": null,
      "outputs": [
        {
          "output_type": "display_data",
          "data": {
            "image/png": "[encoded data removed]",
            "text/plain": [
              "<Figure size 576x576 with 2 Axes>"
            ]
          },
          "metadata": {
            "tags": [],
            "needs_background": "light"
          }
        }
      ]
    },
    {
      "cell_type": "markdown",
      "metadata": {
        "id": "9jpgWkx_rn6S"
      },
      "source": [
        "**Observation:** The variables duration and credit amount are strongly correlated. "
      ]
    },
    {
      "cell_type": "code",
      "metadata": {
        "colab": {
          "base_uri": "https://localhost:8080/"
        },
        "id": "L_slXpHobrnW",
        "outputId": "006e3525-8242-47b8-8a77-71e58f282fb6"
      },
      "source": [
        "male = df[df['Sex'] == \"male\"]\n",
        "female = df[df['Sex'] == \"female\"]\n",
        "\n",
        "male[df['Risk'] == \"good\"].shape[0] / male.shape[0]\n"
      ],
      "execution_count": null,
      "outputs": [
        {
          "output_type": "stream",
          "text": [
            "/usr/local/lib/python3.6/dist-packages/ipykernel_launcher.py:4: UserWarning: Boolean Series key will be reindexed to match DataFrame index.\n",
            "  after removing the cwd from sys.path.\n"
          ],
          "name": "stderr"
        },
        {
          "output_type": "execute_result",
          "data": {
            "text/plain": [
              "0.7231884057971014"
            ]
          },
          "metadata": {
            "tags": []
          },
          "execution_count": 7
        }
      ]
    },
    {
      "cell_type": "code",
      "metadata": {
        "colab": {
          "base_uri": "https://localhost:8080/"
        },
        "id": "pNslVP0yeKmN",
        "outputId": "57495e49-856f-43ae-d01f-4e078ac0b4ae"
      },
      "source": [
        "female[df['Risk'] == \"good\"].shape[0] / female.shape[0]"
      ],
      "execution_count": null,
      "outputs": [
        {
          "output_type": "stream",
          "text": [
            "/usr/local/lib/python3.6/dist-packages/ipykernel_launcher.py:1: UserWarning: Boolean Series key will be reindexed to match DataFrame index.\n",
            "  \"\"\"Entry point for launching an IPython kernel.\n"
          ],
          "name": "stderr"
        },
        {
          "output_type": "execute_result",
          "data": {
            "text/plain": [
              "0.6483870967741936"
            ]
          },
          "metadata": {
            "tags": []
          },
          "execution_count": 8
        }
      ]
    },
    {
      "cell_type": "markdown",
      "metadata": {
        "id": "AW8i6nAy4PM6"
      },
      "source": [
        "#### Data Preparation"
      ]
    },
    {
      "cell_type": "markdown",
      "metadata": {
        "id": "0WUfpprG65S4"
      },
      "source": [
        "In order to work with our target variable, which is the risk variable, we will binarize our risk variable. Labels are as follows: 0: Bad 1: Good. "
      ]
    },
    {
      "cell_type": "code",
      "metadata": {
        "id": "t8-3y1QC6_PL"
      },
      "source": [
        "# LabelBinarizer converts the string categorical variable to binary \n",
        "from sklearn.preprocessing import LabelBinarizer\n",
        "lb= LabelBinarizer()\n",
        "df[\"risk\"]= lb.fit_transform(df[\"risk\"])"
      ],
      "execution_count": null,
      "outputs": []
    },
    {
      "cell_type": "code",
      "metadata": {
        "id": "FXrSCsse62e6",
        "colab": {
          "base_uri": "https://localhost:8080/",
          "height": 279
        },
        "outputId": "c1fb8a37-b6ef-4122-aa3a-95f531dc7431"
      },
      "source": [
        "# plotting risk distribution to understand whether there are more records \n",
        "# with more categories than the other.\n",
        "sns.countplot('risk', data = df);"
      ],
      "execution_count": null,
      "outputs": [
        {
          "output_type": "display_data",
          "data": {
            "image/png": "[encoded data removed]",
            "text/plain": [
              "<Figure size 432x288 with 1 Axes>"
            ]
          },
          "metadata": {
            "tags": [],
            "needs_background": "light"
          }
        }
      ]
    },
    {
      "cell_type": "markdown",
      "metadata": {
        "id": "793cdUTc8XD0"
      },
      "source": [
        "**Observation:** We note that our dataset is highly inbalanced. We need to make sure that our dataset is balanced which means, we need to have the same no. of records with the 0 and 1 class. We will address this issue later."
      ]
    },
    {
      "cell_type": "markdown",
      "metadata": {
        "id": "heOmjB4W8rPV"
      },
      "source": [
        "For now, in order to prepare our dataset for our model, we will perform binning on the numerical variables i.e. duration, age and credit amount variables. Once we perform binning, we will later perform one hot encoding to all the categorical variables within our dataset."
      ]
    },
    {
      "cell_type": "code",
      "metadata": {
        "id": "gW3AYFbt8pwQ"
      },
      "source": [
        "# performing binning on duration \n",
        "# we bin by specifying 6 bins\n",
        "df[\"duration\"] = pd.qcut(df.duration, q = 6)"
      ],
      "execution_count": null,
      "outputs": []
    },
    {
      "cell_type": "code",
      "metadata": {
        "id": "V2DcomIR80y_"
      },
      "source": [
        "# performing binning on age\n",
        "# we bin by defining the intervals and categories\n",
        "interval = (18, 25, 35, 60, 120)\n",
        "categories = ['student', 'youth', 'adult', 'senior']\n",
        "df[\"age\"] = pd.cut(df.age, interval, labels = categories)"
      ],
      "execution_count": null,
      "outputs": []
    },
    {
      "cell_type": "code",
      "metadata": {
        "id": "SmkCKK9uJFxl"
      },
      "source": [
        "# performing binning on credit_amount\n",
        "# this time we bin without specifying i.e. we create 6 bins\n",
        "df[\"credit_amount\"] = pd.qcut(df.credit_amount, q = 5)"
      ],
      "execution_count": null,
      "outputs": []
    },
    {
      "cell_type": "markdown",
      "metadata": {
        "id": "VlsQQnU6tBPS"
      },
      "source": [
        "We will now transform our features into dummy variables by one-hot encoding the features in our dataset. This will make our features robust for our linear regression model."
      ]
    },
    {
      "cell_type": "code",
      "metadata": {
        "id": "fZPQykjhKUyi"
      },
      "source": [
        "# performing one hot encoding to the purpose variable\n",
        "df = df.merge(pd.get_dummies(df.job, drop_first=True, prefix='job'), left_index=True, right_index=True)\n"
      ],
      "execution_count": null,
      "outputs": []
    },
    {
      "cell_type": "code",
      "metadata": {
        "id": "bQt5EO2P5k7s"
      },
      "source": [
        "# performing one hot encoding to the purpose variable\n",
        "df = df.merge(pd.get_dummies(df.purpose, drop_first=True, prefix='purpose'), left_index=True, right_index=True)\n"
      ],
      "execution_count": null,
      "outputs": []
    },
    {
      "cell_type": "code",
      "metadata": {
        "id": "cOBxpxT86C6P"
      },
      "source": [
        "# performing one hot encoding to the sex variable\n",
        "df = df.merge(pd.get_dummies(df.sex, drop_first=True, prefix='sex'), left_index=True, right_index=True)\n"
      ],
      "execution_count": null,
      "outputs": []
    },
    {
      "cell_type": "code",
      "metadata": {
        "id": "zYk0o2E76E67"
      },
      "source": [
        "# performing one hot encoding to the housing variable\n",
        "df = df.merge(pd.get_dummies(df.housing, drop_first=True, prefix='housing'), left_index=True, right_index=True)\n"
      ],
      "execution_count": null,
      "outputs": []
    },
    {
      "cell_type": "code",
      "metadata": {
        "id": "h-WxDq1o6HOG"
      },
      "source": [
        "# performing one hot encoding to the savings account variable\n",
        "df = df.merge(pd.get_dummies(df.saving_accounts, drop_first=True, prefix='savings'), left_index=True, right_index=True)\n"
      ],
      "execution_count": null,
      "outputs": []
    },
    {
      "cell_type": "code",
      "metadata": {
        "id": "8uB8sOjh6KOz"
      },
      "source": [
        "# performing one hot encoding to checking account variable\n",
        "df = df.merge(pd.get_dummies(df.checking_account, drop_first=True, prefix='check'), left_index=True, right_index=True)\n"
      ],
      "execution_count": null,
      "outputs": []
    },
    {
      "cell_type": "code",
      "metadata": {
        "id": "41xOwEPi6MPc"
      },
      "source": [
        "# performing one hot encoding to age variable\n",
        "df = df.merge(pd.get_dummies(df.age, drop_first=True, prefix='age'), left_index=True, right_index=True)"
      ],
      "execution_count": null,
      "outputs": []
    },
    {
      "cell_type": "code",
      "metadata": {
        "id": "sY_as3R__2dL"
      },
      "source": [
        "# performing one hot encoding to age variable\n",
        "df = df.merge(pd.get_dummies(df.duration, drop_first=True, prefix='duration'), left_index=True, right_index=True)"
      ],
      "execution_count": null,
      "outputs": []
    },
    {
      "cell_type": "code",
      "metadata": {
        "id": "NyH3noHyJmR5"
      },
      "source": [
        "# performing one hot encoding to credit amount variable\n",
        "df = df.merge(pd.get_dummies(df.credit_amount, drop_first=True, prefix='credit_amount'), left_index=True, right_index=True)"
      ],
      "execution_count": null,
      "outputs": []
    },
    {
      "cell_type": "code",
      "metadata": {
        "id": "s51JILRI_hNd",
        "colab": {
          "base_uri": "https://localhost:8080/",
          "height": 326
        },
        "outputId": "bb942788-68c6-44b7-9aa5-6c56a69ab026"
      },
      "source": [
        "# previewing our created dataframe\n",
        "df.head()"
      ],
      "execution_count": null,
      "outputs": [
        {
          "output_type": "execute_result",
          "data": {
            "text/html": [
              "<div>\n",
              "<style scoped>\n",
              "    .dataframe tbody tr th:only-of-type {\n",
              "        vertical-align: middle;\n",
              "    }\n",
              "\n",
              "    .dataframe tbody tr th {\n",
              "        vertical-align: top;\n",
              "    }\n",
              "\n",
              "    .dataframe thead th {\n",
              "        text-align: right;\n",
              "    }\n",
              "</style>\n",
              "<table border=\"1\" class=\"dataframe\">\n",
              "  <thead>\n",
              "    <tr style=\"text-align: right;\">\n",
              "      <th></th>\n",
              "      <th>age</th>\n",
              "      <th>sex</th>\n",
              "      <th>job</th>\n",
              "      <th>housing</th>\n",
              "      <th>saving_accounts</th>\n",
              "      <th>checking_account</th>\n",
              "      <th>credit_amount</th>\n",
              "      <th>duration</th>\n",
              "      <th>purpose</th>\n",
              "      <th>risk</th>\n",
              "      <th>job_1</th>\n",
              "      <th>job_2</th>\n",
              "      <th>job_3</th>\n",
              "      <th>purpose_car</th>\n",
              "      <th>purpose_domestic appliances</th>\n",
              "      <th>purpose_education</th>\n",
              "      <th>purpose_furniture/equipment</th>\n",
              "      <th>purpose_radio/TV</th>\n",
              "      <th>purpose_repairs</th>\n",
              "      <th>purpose_vacation/others</th>\n",
              "      <th>sex_male</th>\n",
              "      <th>housing_own</th>\n",
              "      <th>housing_rent</th>\n",
              "      <th>savings_little</th>\n",
              "      <th>savings_moderate</th>\n",
              "      <th>savings_quite rich</th>\n",
              "      <th>savings_rich</th>\n",
              "      <th>check_little</th>\n",
              "      <th>check_moderate</th>\n",
              "      <th>check_rich</th>\n",
              "      <th>age_youth</th>\n",
              "      <th>age_adult</th>\n",
              "      <th>age_senior</th>\n",
              "      <th>duration_(10.0, 12.0]</th>\n",
              "      <th>duration_(12.0, 18.0]</th>\n",
              "      <th>duration_(18.0, 24.0]</th>\n",
              "      <th>duration_(24.0, 36.0]</th>\n",
              "      <th>duration_(36.0, 72.0]</th>\n",
              "      <th>credit_amount_(1262.0, 1906.8]</th>\n",
              "      <th>credit_amount_(1906.8, 2852.4]</th>\n",
              "      <th>credit_amount_(2852.4, 4720.0]</th>\n",
              "      <th>credit_amount_(4720.0, 18424.0]</th>\n",
              "    </tr>\n",
              "  </thead>\n",
              "  <tbody>\n",
              "    <tr>\n",
              "      <th>0</th>\n",
              "      <td>senior</td>\n",
              "      <td>male</td>\n",
              "      <td>2</td>\n",
              "      <td>own</td>\n",
              "      <td>NoSavingAcc</td>\n",
              "      <td>little</td>\n",
              "      <td>(249.999, 1262.0]</td>\n",
              "      <td>(3.999, 10.0]</td>\n",
              "      <td>radio/TV</td>\n",
              "      <td>1</td>\n",
              "      <td>0</td>\n",
              "      <td>1</td>\n",
              "      <td>0</td>\n",
              "      <td>0</td>\n",
              "      <td>0</td>\n",
              "      <td>0</td>\n",
              "      <td>0</td>\n",
              "      <td>1</td>\n",
              "      <td>0</td>\n",
              "      <td>0</td>\n",
              "      <td>1</td>\n",
              "      <td>1</td>\n",
              "      <td>0</td>\n",
              "      <td>0</td>\n",
              "      <td>0</td>\n",
              "      <td>0</td>\n",
              "      <td>0</td>\n",
              "      <td>1</td>\n",
              "      <td>0</td>\n",
              "      <td>0</td>\n",
              "      <td>0</td>\n",
              "      <td>0</td>\n",
              "      <td>1</td>\n",
              "      <td>0</td>\n",
              "      <td>0</td>\n",
              "      <td>0</td>\n",
              "      <td>0</td>\n",
              "      <td>0</td>\n",
              "      <td>0</td>\n",
              "      <td>0</td>\n",
              "      <td>0</td>\n",
              "      <td>0</td>\n",
              "    </tr>\n",
              "    <tr>\n",
              "      <th>1</th>\n",
              "      <td>student</td>\n",
              "      <td>female</td>\n",
              "      <td>2</td>\n",
              "      <td>own</td>\n",
              "      <td>little</td>\n",
              "      <td>moderate</td>\n",
              "      <td>(4720.0, 18424.0]</td>\n",
              "      <td>(36.0, 72.0]</td>\n",
              "      <td>radio/TV</td>\n",
              "      <td>0</td>\n",
              "      <td>0</td>\n",
              "      <td>1</td>\n",
              "      <td>0</td>\n",
              "      <td>0</td>\n",
              "      <td>0</td>\n",
              "      <td>0</td>\n",
              "      <td>0</td>\n",
              "      <td>1</td>\n",
              "      <td>0</td>\n",
              "      <td>0</td>\n",
              "      <td>0</td>\n",
              "      <td>1</td>\n",
              "      <td>0</td>\n",
              "      <td>1</td>\n",
              "      <td>0</td>\n",
              "      <td>0</td>\n",
              "      <td>0</td>\n",
              "      <td>0</td>\n",
              "      <td>1</td>\n",
              "      <td>0</td>\n",
              "      <td>0</td>\n",
              "      <td>0</td>\n",
              "      <td>0</td>\n",
              "      <td>0</td>\n",
              "      <td>0</td>\n",
              "      <td>0</td>\n",
              "      <td>0</td>\n",
              "      <td>1</td>\n",
              "      <td>0</td>\n",
              "      <td>0</td>\n",
              "      <td>0</td>\n",
              "      <td>1</td>\n",
              "    </tr>\n",
              "    <tr>\n",
              "      <th>2</th>\n",
              "      <td>adult</td>\n",
              "      <td>male</td>\n",
              "      <td>1</td>\n",
              "      <td>own</td>\n",
              "      <td>little</td>\n",
              "      <td>NoCheckAcc</td>\n",
              "      <td>(1906.8, 2852.4]</td>\n",
              "      <td>(10.0, 12.0]</td>\n",
              "      <td>education</td>\n",
              "      <td>1</td>\n",
              "      <td>1</td>\n",
              "      <td>0</td>\n",
              "      <td>0</td>\n",
              "      <td>0</td>\n",
              "      <td>0</td>\n",
              "      <td>1</td>\n",
              "      <td>0</td>\n",
              "      <td>0</td>\n",
              "      <td>0</td>\n",
              "      <td>0</td>\n",
              "      <td>1</td>\n",
              "      <td>1</td>\n",
              "      <td>0</td>\n",
              "      <td>1</td>\n",
              "      <td>0</td>\n",
              "      <td>0</td>\n",
              "      <td>0</td>\n",
              "      <td>0</td>\n",
              "      <td>0</td>\n",
              "      <td>0</td>\n",
              "      <td>0</td>\n",
              "      <td>1</td>\n",
              "      <td>0</td>\n",
              "      <td>1</td>\n",
              "      <td>0</td>\n",
              "      <td>0</td>\n",
              "      <td>0</td>\n",
              "      <td>0</td>\n",
              "      <td>0</td>\n",
              "      <td>1</td>\n",
              "      <td>0</td>\n",
              "      <td>0</td>\n",
              "    </tr>\n",
              "    <tr>\n",
              "      <th>3</th>\n",
              "      <td>adult</td>\n",
              "      <td>male</td>\n",
              "      <td>2</td>\n",
              "      <td>free</td>\n",
              "      <td>little</td>\n",
              "      <td>little</td>\n",
              "      <td>(4720.0, 18424.0]</td>\n",
              "      <td>(36.0, 72.0]</td>\n",
              "      <td>furniture/equipment</td>\n",
              "      <td>1</td>\n",
              "      <td>0</td>\n",
              "      <td>1</td>\n",
              "      <td>0</td>\n",
              "      <td>0</td>\n",
              "      <td>0</td>\n",
              "      <td>0</td>\n",
              "      <td>1</td>\n",
              "      <td>0</td>\n",
              "      <td>0</td>\n",
              "      <td>0</td>\n",
              "      <td>1</td>\n",
              "      <td>0</td>\n",
              "      <td>0</td>\n",
              "      <td>1</td>\n",
              "      <td>0</td>\n",
              "      <td>0</td>\n",
              "      <td>0</td>\n",
              "      <td>1</td>\n",
              "      <td>0</td>\n",
              "      <td>0</td>\n",
              "      <td>0</td>\n",
              "      <td>1</td>\n",
              "      <td>0</td>\n",
              "      <td>0</td>\n",
              "      <td>0</td>\n",
              "      <td>0</td>\n",
              "      <td>0</td>\n",
              "      <td>1</td>\n",
              "      <td>0</td>\n",
              "      <td>0</td>\n",
              "      <td>0</td>\n",
              "      <td>1</td>\n",
              "    </tr>\n",
              "    <tr>\n",
              "      <th>4</th>\n",
              "      <td>adult</td>\n",
              "      <td>male</td>\n",
              "      <td>2</td>\n",
              "      <td>free</td>\n",
              "      <td>little</td>\n",
              "      <td>little</td>\n",
              "      <td>(4720.0, 18424.0]</td>\n",
              "      <td>(18.0, 24.0]</td>\n",
              "      <td>car</td>\n",
              "      <td>0</td>\n",
              "      <td>0</td>\n",
              "      <td>1</td>\n",
              "      <td>0</td>\n",
              "      <td>1</td>\n",
              "      <td>0</td>\n",
              "      <td>0</td>\n",
              "      <td>0</td>\n",
              "      <td>0</td>\n",
              "      <td>0</td>\n",
              "      <td>0</td>\n",
              "      <td>1</td>\n",
              "      <td>0</td>\n",
              "      <td>0</td>\n",
              "      <td>1</td>\n",
              "      <td>0</td>\n",
              "      <td>0</td>\n",
              "      <td>0</td>\n",
              "      <td>1</td>\n",
              "      <td>0</td>\n",
              "      <td>0</td>\n",
              "      <td>0</td>\n",
              "      <td>1</td>\n",
              "      <td>0</td>\n",
              "      <td>0</td>\n",
              "      <td>0</td>\n",
              "      <td>1</td>\n",
              "      <td>0</td>\n",
              "      <td>0</td>\n",
              "      <td>0</td>\n",
              "      <td>0</td>\n",
              "      <td>0</td>\n",
              "      <td>1</td>\n",
              "    </tr>\n",
              "  </tbody>\n",
              "</table>\n",
              "</div>"
            ],
            "text/plain": [
              "       age  ... credit_amount_(4720.0, 18424.0]\n",
              "0   senior  ...                               0\n",
              "1  student  ...                               1\n",
              "2    adult  ...                               0\n",
              "3    adult  ...                               1\n",
              "4    adult  ...                               1\n",
              "\n",
              "[5 rows x 42 columns]"
            ]
          },
          "metadata": {
            "tags": []
          },
          "execution_count": 44
        }
      ]
    },
    {
      "cell_type": "code",
      "metadata": {
        "id": "vieLd1J_-h0v"
      },
      "source": [
        "# we then cxcluding the missing columns since we have new variables for use\n",
        "del df[\"job\"]\n",
        "del df[\"purpose\"]\n",
        "del df[\"sex\"]\n",
        "del df[\"housing\"]\n",
        "del df[\"saving_accounts\"]\n",
        "del df[\"checking_account\"]\n",
        "del df[\"age\"]\n",
        "del df[\"duration\"]\n",
        "del df[\"credit_amount\"]"
      ],
      "execution_count": null,
      "outputs": []
    },
    {
      "cell_type": "code",
      "metadata": {
        "id": "WhA_6bhQtlec",
        "colab": {
          "base_uri": "https://localhost:8080/",
          "height": 241
        },
        "outputId": "0b8da2bf-2b7f-4d7c-8f3e-d16e02d20bf5"
      },
      "source": [
        "# preview updated dataframe\n",
        "df.head()"
      ],
      "execution_count": null,
      "outputs": [
        {
          "output_type": "execute_result",
          "data": {
            "text/html": [
              "<div>\n",
              "<style scoped>\n",
              "    .dataframe tbody tr th:only-of-type {\n",
              "        vertical-align: middle;\n",
              "    }\n",
              "\n",
              "    .dataframe tbody tr th {\n",
              "        vertical-align: top;\n",
              "    }\n",
              "\n",
              "    .dataframe thead th {\n",
              "        text-align: right;\n",
              "    }\n",
              "</style>\n",
              "<table border=\"1\" class=\"dataframe\">\n",
              "  <thead>\n",
              "    <tr style=\"text-align: right;\">\n",
              "      <th></th>\n",
              "      <th>risk</th>\n",
              "      <th>job_1</th>\n",
              "      <th>job_2</th>\n",
              "      <th>job_3</th>\n",
              "      <th>purpose_car</th>\n",
              "      <th>purpose_domestic appliances</th>\n",
              "      <th>purpose_education</th>\n",
              "      <th>purpose_furniture/equipment</th>\n",
              "      <th>purpose_radio/TV</th>\n",
              "      <th>purpose_repairs</th>\n",
              "      <th>purpose_vacation/others</th>\n",
              "      <th>sex_male</th>\n",
              "      <th>housing_own</th>\n",
              "      <th>housing_rent</th>\n",
              "      <th>savings_little</th>\n",
              "      <th>savings_moderate</th>\n",
              "      <th>savings_quite rich</th>\n",
              "      <th>savings_rich</th>\n",
              "      <th>check_little</th>\n",
              "      <th>check_moderate</th>\n",
              "      <th>check_rich</th>\n",
              "      <th>age_youth</th>\n",
              "      <th>age_adult</th>\n",
              "      <th>age_senior</th>\n",
              "      <th>duration_(10.0, 12.0]</th>\n",
              "      <th>duration_(12.0, 18.0]</th>\n",
              "      <th>duration_(18.0, 24.0]</th>\n",
              "      <th>duration_(24.0, 36.0]</th>\n",
              "      <th>duration_(36.0, 72.0]</th>\n",
              "      <th>credit_amount_(1262.0, 1906.8]</th>\n",
              "      <th>credit_amount_(1906.8, 2852.4]</th>\n",
              "      <th>credit_amount_(2852.4, 4720.0]</th>\n",
              "      <th>credit_amount_(4720.0, 18424.0]</th>\n",
              "    </tr>\n",
              "  </thead>\n",
              "  <tbody>\n",
              "    <tr>\n",
              "      <th>0</th>\n",
              "      <td>1</td>\n",
              "      <td>0</td>\n",
              "      <td>1</td>\n",
              "      <td>0</td>\n",
              "      <td>0</td>\n",
              "      <td>0</td>\n",
              "      <td>0</td>\n",
              "      <td>0</td>\n",
              "      <td>1</td>\n",
              "      <td>0</td>\n",
              "      <td>0</td>\n",
              "      <td>1</td>\n",
              "      <td>1</td>\n",
              "      <td>0</td>\n",
              "      <td>0</td>\n",
              "      <td>0</td>\n",
              "      <td>0</td>\n",
              "      <td>0</td>\n",
              "      <td>1</td>\n",
              "      <td>0</td>\n",
              "      <td>0</td>\n",
              "      <td>0</td>\n",
              "      <td>0</td>\n",
              "      <td>1</td>\n",
              "      <td>0</td>\n",
              "      <td>0</td>\n",
              "      <td>0</td>\n",
              "      <td>0</td>\n",
              "      <td>0</td>\n",
              "      <td>0</td>\n",
              "      <td>0</td>\n",
              "      <td>0</td>\n",
              "      <td>0</td>\n",
              "    </tr>\n",
              "    <tr>\n",
              "      <th>1</th>\n",
              "      <td>0</td>\n",
              "      <td>0</td>\n",
              "      <td>1</td>\n",
              "      <td>0</td>\n",
              "      <td>0</td>\n",
              "      <td>0</td>\n",
              "      <td>0</td>\n",
              "      <td>0</td>\n",
              "      <td>1</td>\n",
              "      <td>0</td>\n",
              "      <td>0</td>\n",
              "      <td>0</td>\n",
              "      <td>1</td>\n",
              "      <td>0</td>\n",
              "      <td>1</td>\n",
              "      <td>0</td>\n",
              "      <td>0</td>\n",
              "      <td>0</td>\n",
              "      <td>0</td>\n",
              "      <td>1</td>\n",
              "      <td>0</td>\n",
              "      <td>0</td>\n",
              "      <td>0</td>\n",
              "      <td>0</td>\n",
              "      <td>0</td>\n",
              "      <td>0</td>\n",
              "      <td>0</td>\n",
              "      <td>0</td>\n",
              "      <td>1</td>\n",
              "      <td>0</td>\n",
              "      <td>0</td>\n",
              "      <td>0</td>\n",
              "      <td>1</td>\n",
              "    </tr>\n",
              "    <tr>\n",
              "      <th>2</th>\n",
              "      <td>1</td>\n",
              "      <td>1</td>\n",
              "      <td>0</td>\n",
              "      <td>0</td>\n",
              "      <td>0</td>\n",
              "      <td>0</td>\n",
              "      <td>1</td>\n",
              "      <td>0</td>\n",
              "      <td>0</td>\n",
              "      <td>0</td>\n",
              "      <td>0</td>\n",
              "      <td>1</td>\n",
              "      <td>1</td>\n",
              "      <td>0</td>\n",
              "      <td>1</td>\n",
              "      <td>0</td>\n",
              "      <td>0</td>\n",
              "      <td>0</td>\n",
              "      <td>0</td>\n",
              "      <td>0</td>\n",
              "      <td>0</td>\n",
              "      <td>0</td>\n",
              "      <td>1</td>\n",
              "      <td>0</td>\n",
              "      <td>1</td>\n",
              "      <td>0</td>\n",
              "      <td>0</td>\n",
              "      <td>0</td>\n",
              "      <td>0</td>\n",
              "      <td>0</td>\n",
              "      <td>1</td>\n",
              "      <td>0</td>\n",
              "      <td>0</td>\n",
              "    </tr>\n",
              "    <tr>\n",
              "      <th>3</th>\n",
              "      <td>1</td>\n",
              "      <td>0</td>\n",
              "      <td>1</td>\n",
              "      <td>0</td>\n",
              "      <td>0</td>\n",
              "      <td>0</td>\n",
              "      <td>0</td>\n",
              "      <td>1</td>\n",
              "      <td>0</td>\n",
              "      <td>0</td>\n",
              "      <td>0</td>\n",
              "      <td>1</td>\n",
              "      <td>0</td>\n",
              "      <td>0</td>\n",
              "      <td>1</td>\n",
              "      <td>0</td>\n",
              "      <td>0</td>\n",
              "      <td>0</td>\n",
              "      <td>1</td>\n",
              "      <td>0</td>\n",
              "      <td>0</td>\n",
              "      <td>0</td>\n",
              "      <td>1</td>\n",
              "      <td>0</td>\n",
              "      <td>0</td>\n",
              "      <td>0</td>\n",
              "      <td>0</td>\n",
              "      <td>0</td>\n",
              "      <td>1</td>\n",
              "      <td>0</td>\n",
              "      <td>0</td>\n",
              "      <td>0</td>\n",
              "      <td>1</td>\n",
              "    </tr>\n",
              "    <tr>\n",
              "      <th>4</th>\n",
              "      <td>0</td>\n",
              "      <td>0</td>\n",
              "      <td>1</td>\n",
              "      <td>0</td>\n",
              "      <td>1</td>\n",
              "      <td>0</td>\n",
              "      <td>0</td>\n",
              "      <td>0</td>\n",
              "      <td>0</td>\n",
              "      <td>0</td>\n",
              "      <td>0</td>\n",
              "      <td>1</td>\n",
              "      <td>0</td>\n",
              "      <td>0</td>\n",
              "      <td>1</td>\n",
              "      <td>0</td>\n",
              "      <td>0</td>\n",
              "      <td>0</td>\n",
              "      <td>1</td>\n",
              "      <td>0</td>\n",
              "      <td>0</td>\n",
              "      <td>0</td>\n",
              "      <td>1</td>\n",
              "      <td>0</td>\n",
              "      <td>0</td>\n",
              "      <td>0</td>\n",
              "      <td>1</td>\n",
              "      <td>0</td>\n",
              "      <td>0</td>\n",
              "      <td>0</td>\n",
              "      <td>0</td>\n",
              "      <td>0</td>\n",
              "      <td>1</td>\n",
              "    </tr>\n",
              "  </tbody>\n",
              "</table>\n",
              "</div>"
            ],
            "text/plain": [
              "   risk  job_1  ...  credit_amount_(2852.4, 4720.0]  credit_amount_(4720.0, 18424.0]\n",
              "0     1      0  ...                               0                                0\n",
              "1     0      0  ...                               0                                1\n",
              "2     1      1  ...                               0                                0\n",
              "3     1      0  ...                               0                                1\n",
              "4     0      0  ...                               0                                1\n",
              "\n",
              "[5 rows x 33 columns]"
            ]
          },
          "metadata": {
            "tags": []
          },
          "execution_count": 46
        }
      ]
    },
    {
      "cell_type": "code",
      "metadata": {
        "id": "FaBPmPzX9ibH",
        "colab": {
          "base_uri": "https://localhost:8080/",
          "height": 51
        },
        "outputId": "1f338580-6cad-4683-c715-028a8d11f671"
      },
      "source": [
        "# dividing our dataset into features (X) and target (y)\n",
        "X = df.drop(columns = ['risk']).values\n",
        "y = df['risk'].values\n",
        "\n",
        "print(X.shape)\n",
        "print(y.shape)"
      ],
      "execution_count": null,
      "outputs": [
        {
          "output_type": "stream",
          "text": [
            "(1000, 32)\n",
            "(1000,)\n"
          ],
          "name": "stdout"
        }
      ]
    },
    {
      "cell_type": "code",
      "metadata": {
        "id": "Vsx_kFFkSUO5"
      },
      "source": [
        "# splitting our dataset into 80-20 train-test sets\n",
        "from sklearn.model_selection import train_test_split \n",
        "X_train, X_test, y_train, y_test = train_test_split(X, y, test_size = 0.2, random_state = 42, stratify = y)"
      ],
      "execution_count": null,
      "outputs": []
    },
    {
      "cell_type": "markdown",
      "metadata": {
        "id": "rMX2zyf9Z4XQ"
      },
      "source": [
        "Because we had earlier seen that we had an imbalanced dataset, we will create a balanced dataset by trying to resample our dataset using SMOTE (Synthetic minority Oversampling Technique). This technique works randomly picking a point from the minority class and computing the k-nearest neighbors for this point. The synthetic points are added between the chosen point and its neighbors."
      ]
    },
    {
      "cell_type": "code",
      "metadata": {
        "id": "vfj-DCF8Z2rm"
      },
      "source": [
        "# creating a balanced dataset\n",
        "from imblearn.over_sampling import SMOTE\n",
        "smt = SMOTE()\n",
        "X_train, y_train = smt.fit_sample(X_train, y_train)"
      ],
      "execution_count": null,
      "outputs": []
    },
    {
      "cell_type": "code",
      "metadata": {
        "id": "caldshkvcEY0",
        "colab": {
          "base_uri": "https://localhost:8080/",
          "height": 34
        },
        "outputId": "7935db8e-e9cc-4550-8a89-30e439662af3"
      },
      "source": [
        "# we check the amount of records in each category\n",
        "np.bincount(y_train)"
      ],
      "execution_count": null,
      "outputs": [
        {
          "output_type": "execute_result",
          "data": {
            "text/plain": [
              "array([560, 560])"
            ]
          },
          "metadata": {
            "tags": []
          },
          "execution_count": 50
        }
      ]
    },
    {
      "cell_type": "markdown",
      "metadata": {
        "id": "nRcdxyxPk3WZ"
      },
      "source": [
        "**Observation:** The minority class has been increased to the total number of majority class."
      ]
    },
    {
      "cell_type": "markdown",
      "metadata": {
        "id": "bN9Hn-5UcN4b"
      },
      "source": [
        "#### Data Modeling"
      ]
    },
    {
      "cell_type": "code",
      "metadata": {
        "id": "zhmZ-8Mn-EEu"
      },
      "source": [
        "# model creation\n",
        "from sklearn.linear_model import LogisticRegression\n",
        "logistic_classifier = LogisticRegression()\n",
        "\n",
        "# training our model\n",
        "logistic_classifier.fit(X_train, y_train)\n",
        "\n",
        "# making predictions\n",
        "y_pred_logistic = logistic_classifier.predict(X_test)"
      ],
      "execution_count": null,
      "outputs": []
    },
    {
      "cell_type": "markdown",
      "metadata": {
        "id": "rkdaD8dG229Q"
      },
      "source": [
        "#### Model Evaluation"
      ]
    },
    {
      "cell_type": "code",
      "metadata": {
        "id": "lyZsk-38-MMF",
        "colab": {
          "base_uri": "https://localhost:8080/"
        },
        "outputId": "32cc10b0-a05f-4db1-cc98-c262b5cfca88"
      },
      "source": [
        "# model evaluation\n",
        "from sklearn.metrics import accuracy_score, confusion_matrix, classification_report\n",
        "print(accuracy_score(y_pred_logistic, y_test))\n",
        "print(confusion_matrix(y_test, y_pred_logistic))\n",
        "print(classification_report(y_test, y_pred_logistic))"
      ],
      "execution_count": null,
      "outputs": [
        {
          "output_type": "stream",
          "text": [
            "0.695\n",
            "[[ 26  34]\n",
            " [ 27 113]]\n",
            "              precision    recall  f1-score   support\n",
            "\n",
            "           0       0.49      0.43      0.46        60\n",
            "           1       0.77      0.81      0.79       140\n",
            "\n",
            "    accuracy                           0.69       200\n",
            "   macro avg       0.63      0.62      0.62       200\n",
            "weighted avg       0.69      0.69      0.69       200\n",
            "\n"
          ],
          "name": "stdout"
        }
      ]
    },
    {
      "cell_type": "markdown",
      "metadata": {
        "id": "aQBZMgCqk_C6"
      },
      "source": [
        "**Observations:**\n",
        "\n",
        "Our accuracy score for this model was 0.73. \n",
        "\n",
        "From our confusion matrix, we can see that we 119 records with the class 1 were predicted correctly, however 32 records with the class 1 were incorrectly predicted. 28 records with the class 0 were predicted correctly while 21 records were predicted incorrectly.\n",
        "\n",
        "From our classification report, we can see that we have a recall of 0.66 which is our true positive rate i.e. When it's actually a 1, how often does it predict a 1?"
      ]
    },
    {
      "cell_type": "code",
      "metadata": {
        "id": "vtiJj_4WWsXB",
        "colab": {
          "base_uri": "https://localhost:8080/"
        },
        "outputId": "f9ba6e75-4e1a-45ff-8af6-7d4721c63142"
      },
      "source": [
        "# Exploring another metric below \n",
        "# ---\n",
        "# plotting roc curve (receiving operating characteristic curve)\n",
        "from sklearn.metrics import roc_curve, roc_auc_score\n",
        "\n",
        "# Create true and false positive rates\n",
        "false_positive_rate, true_positive_rate, threshold = roc_curve(y_test, y_pred_logistic)\n",
        "\n",
        "# Plot ROC curve\n",
        "plt.title('Receiver Operating Characteristic')\n",
        "plt.plot(false_positive_rate, true_positive_rate)\n",
        "plt.plot([0, 1], ls=\"--\")\n",
        "plt.plot([0, 0], [1, 0] , c=\".7\"), plt.plot([1, 1] , c=\".7\")\n",
        "plt.ylabel('True Positive Rate')\n",
        "plt.xlabel('False Positive Rate')\n",
        "plt.show()"
      ],
      "execution_count": null,
      "outputs": [
        {
          "output_type": "display_data",
          "data": {
            "image/png": "[encoded data removed]",
            "text/plain": [
              "<Figure size 432x288 with 1 Axes>"
            ]
          },
          "metadata": {
            "tags": [],
            "needs_background": "light"
          }
        }
      ]
    },
    {
      "cell_type": "markdown",
      "metadata": {
        "id": "sjxLylMgXteY"
      },
      "source": [
        "This type of curve shows the true positive and false positive rate for every probability threshold of a binary classifier. The higher the blue line, the better the model at distinguishing between the positive and negative classes."
      ]
    },
    {
      "cell_type": "code",
      "metadata": {
        "id": "nyPMDZS0nIMI",
        "colab": {
          "base_uri": "https://localhost:8080/"
        },
        "outputId": "6a1b22c1-a00d-48c1-e9d6-a3af480eb77b"
      },
      "source": [
        "# roc_auc_score\n",
        "roc_auc_score(y_test, y_pred_logistic)"
      ],
      "execution_count": null,
      "outputs": [
        {
          "output_type": "execute_result",
          "data": {
            "text/plain": [
              "0.6202380952380953"
            ]
          },
          "metadata": {
            "tags": []
          },
          "execution_count": 54
        }
      ]
    },
    {
      "cell_type": "markdown",
      "metadata": {
        "id": "SNaaoaBonO8Q"
      },
      "source": [
        "Observation: An roc auc score coser to 1 the better the model is."
      ]
    },
    {
      "cell_type": "markdown",
      "metadata": {
        "id": "fBrgP4Su5mMt"
      },
      "source": [
        "### <font color=\"green\">Challenge 1</font>"
      ]
    },
    {
      "cell_type": "code",
      "metadata": {
        "id": "KnQ9C61T5mMu"
      },
      "source": [
        "# Create a credit scoring model that will be used to predict \n",
        "# whether a customer will default or not.\n",
        "# ---\n",
        "# Dataset URL = https://bit.ly/37FPsAF\n",
        "# ---\n",
        "# YOUR CODE GOES BELOW\n",
        "#"
      ],
      "execution_count": null,
      "outputs": []
    },
    {
      "cell_type": "markdown",
      "metadata": {
        "id": "s7bsk53Y508R"
      },
      "source": [
        "## Advanced Machine Learning Techniques"
      ]
    },
    {
      "cell_type": "markdown",
      "metadata": {
        "id": "13CyddVm2Q0m"
      },
      "source": [
        "For the following examples, we will apply other advanced machine learning techniques i.e. decision trees, random forest, gradient boosting and neural networks. We will dive right into the modeling stage since we will be using the dataset that we have already explored."
      ]
    },
    {
      "cell_type": "markdown",
      "metadata": {
        "id": "FjnfSF1O508T"
      },
      "source": [
        "### Example: Decision Trees, Random Forest and Gradient Boosting."
      ]
    },
    {
      "cell_type": "code",
      "metadata": {
        "id": "06NRjBav508U",
        "colab": {
          "base_uri": "https://localhost:8080/"
        },
        "outputId": "56ce0fb9-76b8-49ac-ef6f-8bb9a26edc73"
      },
      "source": [
        "# importing our machine learning algorithms  \n",
        "from sklearn.tree import DecisionTreeClassifier    \n",
        "from sklearn.ensemble import RandomForestClassifier\n",
        "from sklearn.ensemble import GradientBoostingClassifier\n",
        "\n",
        "# instantiating our algorithms\n",
        "decision_classifier = DecisionTreeClassifier()\n",
        "random_forest_classifier = RandomForestClassifier()\n",
        "gbm_classifier = GradientBoostingClassifier()\n",
        "\n",
        "# training our models\n",
        "decision_classifier.fit(X_train, y_train)\n",
        "random_forest_classifier.fit(X_train, y_train)\n",
        "gbm_classifier.fit(X_train, y_train)\n",
        "\n",
        "# making predictions\n",
        "decision_y_prediction = decision_classifier.predict(X_test) \n",
        "random_forest_y_pred = random_forest_classifier.predict(X_test)\n",
        "gbm_y_pred = gbm_classifier.predict(X_test)\n",
        "\n",
        "# evaluation metrics\n",
        "from sklearn.metrics import classification_report, accuracy_score, roc_auc_score, confusion_matrix\n",
        "print('Decision Tree')\n",
        "print(accuracy_score(decision_y_prediction, y_test))\n",
        "print(confusion_matrix(decision_y_prediction, y_test))\n",
        "print(classification_report(decision_y_prediction, y_test))\n",
        "print(roc_auc_score(decision_y_prediction, y_test))\n",
        "\n",
        "print('Random Forest')\n",
        "print(accuracy_score(random_forest_y_pred, y_test))\n",
        "print(confusion_matrix(random_forest_y_pred, y_test))\n",
        "print(classification_report(random_forest_y_pred, y_test))\n",
        "print(roc_auc_score(random_forest_y_pred, y_test))\n",
        "\n",
        "print('Gradient Boosting')\n",
        "print(accuracy_score(gbm_y_pred, y_test))\n",
        "print(confusion_matrix(gbm_y_pred, y_test))\n",
        "print(classification_report(gbm_y_pred, y_test))\n",
        "print(roc_auc_score(gbm_y_pred, y_test))"
      ],
      "execution_count": null,
      "outputs": [
        {
          "output_type": "stream",
          "text": [
            "Decision Tree\n",
            "0.715\n",
            "[[ 34  31]\n",
            " [ 26 109]]\n",
            "              precision    recall  f1-score   support\n",
            "\n",
            "           0       0.57      0.52      0.54        65\n",
            "           1       0.78      0.81      0.79       135\n",
            "\n",
            "    accuracy                           0.71       200\n",
            "   macro avg       0.67      0.67      0.67       200\n",
            "weighted avg       0.71      0.71      0.71       200\n",
            "\n",
            "0.6652421652421652\n",
            "Random Forest\n",
            "0.71\n",
            "[[ 22  20]\n",
            " [ 38 120]]\n",
            "              precision    recall  f1-score   support\n",
            "\n",
            "           0       0.37      0.52      0.43        42\n",
            "           1       0.86      0.76      0.81       158\n",
            "\n",
            "    accuracy                           0.71       200\n",
            "   macro avg       0.61      0.64      0.62       200\n",
            "weighted avg       0.75      0.71      0.73       200\n",
            "\n",
            "0.6416515973477999\n",
            "Gradient Boosting\n",
            "0.695\n",
            "[[ 23  24]\n",
            " [ 37 116]]\n",
            "              precision    recall  f1-score   support\n",
            "\n",
            "           0       0.38      0.49      0.43        47\n",
            "           1       0.83      0.76      0.79       153\n",
            "\n",
            "    accuracy                           0.69       200\n",
            "   macro avg       0.61      0.62      0.61       200\n",
            "weighted avg       0.72      0.69      0.71       200\n",
            "\n",
            "0.6237658183840913\n"
          ],
          "name": "stdout"
        }
      ]
    },
    {
      "cell_type": "markdown",
      "metadata": {
        "id": "WxOwJKgF5qSb"
      },
      "source": [
        "**Observation:** The Recall score for the random forest model was slightly higher than that of the logistic regression model. However, the random forest model was not better at predicting true negatives. \n",
        "\n",
        "Overall, we can still retain to use the logistic regression classifier, as it still outperformed other models even without any optimisation done."
      ]
    },
    {
      "cell_type": "markdown",
      "metadata": {
        "id": "T-J4QXei6aZh"
      },
      "source": [
        "### Example: Neural Networks"
      ]
    },
    {
      "cell_type": "code",
      "metadata": {
        "id": "KNdRdQRW6hGU",
        "colab": {
          "base_uri": "https://localhost:8080/",
          "height": 1000
        },
        "outputId": "807bfa50-d68e-40c2-a1ff-4fa32e384f40"
      },
      "source": [
        "# importing libraries\n",
        "import keras\n",
        "from keras.models import Sequential     # Used to initialize the Artificial Neural Network\n",
        "from keras.layers import Dense          # Used to build the hidden Layers\n",
        "from keras.layers import Dropout        # Used to prevent overfitting\n",
        "\n",
        "# creating an instance \n",
        "classifier = Sequential() \n",
        "\n",
        "# adding hidden layers\n",
        "classifier.add(Dense(units = 100, input_dim = 32, activation = 'relu'))\n",
        "classifier.add(Dropout(0.3, seed = 2))\n",
        "classifier.add(Dense(units = 100, activation = 'relu'))\n",
        "classifier.add(Dropout(0.3, seed = 2))\n",
        "\n",
        "# output layer\n",
        "classifier.add(Dense(units = 1, activation = \"sigmoid\"))\n",
        "\n",
        "# compiling our model\n",
        "classifier.compile(optimizer = 'adam', loss = 'binary_crossentropy', metrics = ['accuracy'])\n",
        "\n",
        "# training our model\n",
        "classifier.fit(X_train, y_train, epochs = 500, batch_size = 32)"
      ],
      "execution_count": null,
      "outputs": [
        {
          "output_type": "stream",
          "text": [
            "Epoch 1/500\n",
            "35/35 [==============================] - 0s 1ms/step - loss: 0.8967 - accuracy: 0.4786\n",
            "Epoch 2/500\n",
            "35/35 [==============================] - 0s 1ms/step - loss: 0.5454 - accuracy: 0.5786\n",
            "Epoch 3/500\n",
            "35/35 [==============================] - 0s 1ms/step - loss: 0.4996 - accuracy: 0.7214\n",
            "Epoch 4/500\n",
            "35/35 [==============================] - 0s 1ms/step - loss: 0.4841 - accuracy: 0.7482\n",
            "Epoch 5/500\n",
            "35/35 [==============================] - 0s 1ms/step - loss: 0.4687 - accuracy: 0.7589\n",
            "Epoch 6/500\n",
            "35/35 [==============================] - 0s 1ms/step - loss: 0.4447 - accuracy: 0.7679\n",
            "Epoch 7/500\n",
            "35/35 [==============================] - 0s 1ms/step - loss: 0.4335 - accuracy: 0.7848\n",
            "Epoch 8/500\n",
            "35/35 [==============================] - 0s 1ms/step - loss: 0.4287 - accuracy: 0.7750\n",
            "Epoch 9/500\n",
            "35/35 [==============================] - 0s 1ms/step - loss: 0.4368 - accuracy: 0.7884\n",
            "Epoch 10/500\n",
            "35/35 [==============================] - 0s 1ms/step - loss: 0.4161 - accuracy: 0.8116\n",
            "Epoch 11/500\n",
            "35/35 [==============================] - 0s 1ms/step - loss: 0.4136 - accuracy: 0.7946\n",
            "Epoch 12/500\n",
            "35/35 [==============================] - 0s 1ms/step - loss: 0.4195 - accuracy: 0.7902\n",
            "Epoch 13/500\n",
            "35/35 [==============================] - 0s 1ms/step - loss: 0.3955 - accuracy: 0.8098\n",
            "Epoch 14/500\n",
            "35/35 [==============================] - 0s 1ms/step - loss: 0.3909 - accuracy: 0.8045\n",
            "Epoch 15/500\n",
            "35/35 [==============================] - 0s 1ms/step - loss: 0.3874 - accuracy: 0.8179\n",
            "Epoch 16/500\n",
            "35/35 [==============================] - 0s 1ms/step - loss: 0.3932 - accuracy: 0.8196\n",
            "Epoch 17/500\n",
            "35/35 [==============================] - 0s 1ms/step - loss: 0.3804 - accuracy: 0.8250\n",
            "Epoch 18/500\n",
            "35/35 [==============================] - 0s 1ms/step - loss: 0.3775 - accuracy: 0.8205\n",
            "Epoch 19/500\n",
            "35/35 [==============================] - 0s 1ms/step - loss: 0.3965 - accuracy: 0.8205\n",
            "Epoch 20/500\n",
            "35/35 [==============================] - 0s 1ms/step - loss: 0.3703 - accuracy: 0.8259\n",
            "Epoch 21/500\n",
            "35/35 [==============================] - 0s 1ms/step - loss: 0.3652 - accuracy: 0.8321\n",
            "Epoch 22/500\n",
            "35/35 [==============================] - 0s 2ms/step - loss: 0.3580 - accuracy: 0.8357\n",
            "Epoch 23/500\n",
            "35/35 [==============================] - 0s 2ms/step - loss: 0.3632 - accuracy: 0.8348\n",
            "Epoch 24/500\n",
            "35/35 [==============================] - 0s 1ms/step - loss: 0.3562 - accuracy: 0.8384\n",
            "Epoch 25/500\n",
            "35/35 [==============================] - 0s 2ms/step - loss: 0.3593 - accuracy: 0.8357\n",
            "Epoch 26/500\n",
            "35/35 [==============================] - 0s 1ms/step - loss: 0.3538 - accuracy: 0.8339\n",
            "Epoch 27/500\n",
            "35/35 [==============================] - 0s 1ms/step - loss: 0.3532 - accuracy: 0.8330\n",
            "Epoch 28/500\n",
            "35/35 [==============================] - 0s 1ms/step - loss: 0.3412 - accuracy: 0.8375\n",
            "Epoch 29/500\n",
            "35/35 [==============================] - 0s 1ms/step - loss: 0.3358 - accuracy: 0.8438\n",
            "Epoch 30/500\n",
            "35/35 [==============================] - 0s 1ms/step - loss: 0.3261 - accuracy: 0.8509\n",
            "Epoch 31/500\n",
            "35/35 [==============================] - 0s 1ms/step - loss: 0.3348 - accuracy: 0.8446\n",
            "Epoch 32/500\n",
            "35/35 [==============================] - 0s 2ms/step - loss: 0.3316 - accuracy: 0.8473\n",
            "Epoch 33/500\n",
            "35/35 [==============================] - 0s 1ms/step - loss: 0.3240 - accuracy: 0.8554\n",
            "Epoch 34/500\n",
            "35/35 [==============================] - 0s 1ms/step - loss: 0.3231 - accuracy: 0.8446\n",
            "Epoch 35/500\n",
            "35/35 [==============================] - 0s 1ms/step - loss: 0.3307 - accuracy: 0.8473\n",
            "Epoch 36/500\n",
            "35/35 [==============================] - 0s 1ms/step - loss: 0.3216 - accuracy: 0.8652\n",
            "Epoch 37/500\n",
            "35/35 [==============================] - 0s 1ms/step - loss: 0.3178 - accuracy: 0.8670\n",
            "Epoch 38/500\n",
            "35/35 [==============================] - 0s 1ms/step - loss: 0.3167 - accuracy: 0.8571\n",
            "Epoch 39/500\n",
            "35/35 [==============================] - 0s 1ms/step - loss: 0.2964 - accuracy: 0.8661\n",
            "Epoch 40/500\n",
            "35/35 [==============================] - 0s 1ms/step - loss: 0.3017 - accuracy: 0.8607\n",
            "Epoch 41/500\n",
            "35/35 [==============================] - 0s 1ms/step - loss: 0.3156 - accuracy: 0.8580\n",
            "Epoch 42/500\n",
            "35/35 [==============================] - 0s 1ms/step - loss: 0.3038 - accuracy: 0.8661\n",
            "Epoch 43/500\n",
            "35/35 [==============================] - 0s 1ms/step - loss: 0.3038 - accuracy: 0.8634\n",
            "Epoch 44/500\n",
            "35/35 [==============================] - 0s 1ms/step - loss: 0.3043 - accuracy: 0.8509\n",
            "Epoch 45/500\n",
            "35/35 [==============================] - 0s 1ms/step - loss: 0.2960 - accuracy: 0.8714\n",
            "Epoch 46/500\n",
            "35/35 [==============================] - 0s 1ms/step - loss: 0.2988 - accuracy: 0.8705\n",
            "Epoch 47/500\n",
            "35/35 [==============================] - 0s 1ms/step - loss: 0.2915 - accuracy: 0.8839\n",
            "Epoch 48/500\n",
            "35/35 [==============================] - 0s 1ms/step - loss: 0.2886 - accuracy: 0.8768\n",
            "Epoch 49/500\n",
            "35/35 [==============================] - 0s 1ms/step - loss: 0.2884 - accuracy: 0.8786\n",
            "Epoch 50/500\n",
            "35/35 [==============================] - 0s 1ms/step - loss: 0.2746 - accuracy: 0.8821\n",
            "Epoch 51/500\n",
            "35/35 [==============================] - 0s 1ms/step - loss: 0.2802 - accuracy: 0.8714\n",
            "Epoch 52/500\n",
            "35/35 [==============================] - 0s 1ms/step - loss: 0.2747 - accuracy: 0.8813\n",
            "Epoch 53/500\n",
            "35/35 [==============================] - 0s 1ms/step - loss: 0.2633 - accuracy: 0.8857\n",
            "Epoch 54/500\n",
            "35/35 [==============================] - 0s 1ms/step - loss: 0.2631 - accuracy: 0.8946\n",
            "Epoch 55/500\n",
            "35/35 [==============================] - 0s 1ms/step - loss: 0.2552 - accuracy: 0.9000\n",
            "Epoch 56/500\n",
            "35/35 [==============================] - 0s 1ms/step - loss: 0.2641 - accuracy: 0.8866\n",
            "Epoch 57/500\n",
            "35/35 [==============================] - 0s 1ms/step - loss: 0.2623 - accuracy: 0.8866\n",
            "Epoch 58/500\n",
            "35/35 [==============================] - 0s 1ms/step - loss: 0.2576 - accuracy: 0.8857\n",
            "Epoch 59/500\n",
            "35/35 [==============================] - 0s 1ms/step - loss: 0.2567 - accuracy: 0.8938\n",
            "Epoch 60/500\n",
            "35/35 [==============================] - 0s 1ms/step - loss: 0.2466 - accuracy: 0.8982\n",
            "Epoch 61/500\n",
            "35/35 [==============================] - 0s 2ms/step - loss: 0.2425 - accuracy: 0.8866\n",
            "Epoch 62/500\n",
            "35/35 [==============================] - 0s 1ms/step - loss: 0.2567 - accuracy: 0.8857\n",
            "Epoch 63/500\n",
            "35/35 [==============================] - 0s 1ms/step - loss: 0.2315 - accuracy: 0.9000\n",
            "Epoch 64/500\n",
            "35/35 [==============================] - 0s 2ms/step - loss: 0.2281 - accuracy: 0.8938\n",
            "Epoch 65/500\n",
            "35/35 [==============================] - 0s 1ms/step - loss: 0.2394 - accuracy: 0.9009\n",
            "Epoch 66/500\n",
            "35/35 [==============================] - 0s 1ms/step - loss: 0.2467 - accuracy: 0.8955\n",
            "Epoch 67/500\n",
            "35/35 [==============================] - 0s 1ms/step - loss: 0.2328 - accuracy: 0.8964\n",
            "Epoch 68/500\n",
            "35/35 [==============================] - 0s 1ms/step - loss: 0.2258 - accuracy: 0.9089\n",
            "Epoch 69/500\n",
            "35/35 [==============================] - 0s 1ms/step - loss: 0.2327 - accuracy: 0.8955\n",
            "Epoch 70/500\n",
            "35/35 [==============================] - 0s 1ms/step - loss: 0.2142 - accuracy: 0.9125\n",
            "Epoch 71/500\n",
            "35/35 [==============================] - 0s 1ms/step - loss: 0.2043 - accuracy: 0.9187\n",
            "Epoch 72/500\n",
            "35/35 [==============================] - 0s 1ms/step - loss: 0.2332 - accuracy: 0.8982\n",
            "Epoch 73/500\n",
            "35/35 [==============================] - 0s 1ms/step - loss: 0.2084 - accuracy: 0.9152\n",
            "Epoch 74/500\n",
            "35/35 [==============================] - 0s 1ms/step - loss: 0.2181 - accuracy: 0.9125\n",
            "Epoch 75/500\n",
            "35/35 [==============================] - 0s 1ms/step - loss: 0.2132 - accuracy: 0.9071\n",
            "Epoch 76/500\n",
            "35/35 [==============================] - 0s 1ms/step - loss: 0.2074 - accuracy: 0.9107\n",
            "Epoch 77/500\n",
            "35/35 [==============================] - 0s 1ms/step - loss: 0.2225 - accuracy: 0.9143\n",
            "Epoch 78/500\n",
            "35/35 [==============================] - 0s 1ms/step - loss: 0.2164 - accuracy: 0.9134\n",
            "Epoch 79/500\n",
            "35/35 [==============================] - 0s 1ms/step - loss: 0.2097 - accuracy: 0.9098\n",
            "Epoch 80/500\n",
            "35/35 [==============================] - 0s 1ms/step - loss: 0.2082 - accuracy: 0.8991\n",
            "Epoch 81/500\n",
            "35/35 [==============================] - 0s 1ms/step - loss: 0.2080 - accuracy: 0.9054\n",
            "Epoch 82/500\n",
            "35/35 [==============================] - 0s 1ms/step - loss: 0.2021 - accuracy: 0.9161\n",
            "Epoch 83/500\n",
            "35/35 [==============================] - 0s 1ms/step - loss: 0.1997 - accuracy: 0.9107\n",
            "Epoch 84/500\n",
            "35/35 [==============================] - 0s 1ms/step - loss: 0.1999 - accuracy: 0.9250\n",
            "Epoch 85/500\n",
            "35/35 [==============================] - 0s 1ms/step - loss: 0.2060 - accuracy: 0.9143\n",
            "Epoch 86/500\n",
            "35/35 [==============================] - 0s 1ms/step - loss: 0.2005 - accuracy: 0.9089\n",
            "Epoch 87/500\n",
            "35/35 [==============================] - 0s 1ms/step - loss: 0.1914 - accuracy: 0.9268\n",
            "Epoch 88/500\n",
            "35/35 [==============================] - 0s 1ms/step - loss: 0.1847 - accuracy: 0.9205\n",
            "Epoch 89/500\n",
            "35/35 [==============================] - 0s 1ms/step - loss: 0.2039 - accuracy: 0.9107\n",
            "Epoch 90/500\n",
            "35/35 [==============================] - 0s 1ms/step - loss: 0.2005 - accuracy: 0.9098\n",
            "Epoch 91/500\n",
            "35/35 [==============================] - 0s 1ms/step - loss: 0.1842 - accuracy: 0.9232\n",
            "Epoch 92/500\n",
            "35/35 [==============================] - 0s 1ms/step - loss: 0.1872 - accuracy: 0.9179\n",
            "Epoch 93/500\n",
            "35/35 [==============================] - 0s 1ms/step - loss: 0.1763 - accuracy: 0.9286\n",
            "Epoch 94/500\n",
            "35/35 [==============================] - 0s 1ms/step - loss: 0.1765 - accuracy: 0.9179\n",
            "Epoch 95/500\n",
            "35/35 [==============================] - 0s 1ms/step - loss: 0.1900 - accuracy: 0.9170\n",
            "Epoch 96/500\n",
            "35/35 [==============================] - 0s 1ms/step - loss: 0.1769 - accuracy: 0.9259\n",
            "Epoch 97/500\n",
            "35/35 [==============================] - 0s 1ms/step - loss: 0.1878 - accuracy: 0.9170\n",
            "Epoch 98/500\n",
            "35/35 [==============================] - 0s 1ms/step - loss: 0.1740 - accuracy: 0.9250\n",
            "Epoch 99/500\n",
            "35/35 [==============================] - 0s 1ms/step - loss: 0.1909 - accuracy: 0.9161\n",
            "Epoch 100/500\n",
            "35/35 [==============================] - 0s 1ms/step - loss: 0.1708 - accuracy: 0.9250\n",
            "Epoch 101/500\n",
            "35/35 [==============================] - 0s 1ms/step - loss: 0.1862 - accuracy: 0.9259\n",
            "Epoch 102/500\n",
            "35/35 [==============================] - 0s 1ms/step - loss: 0.1794 - accuracy: 0.9205\n",
            "Epoch 103/500\n",
            "35/35 [==============================] - 0s 1ms/step - loss: 0.1897 - accuracy: 0.9330\n",
            "Epoch 104/500\n",
            "35/35 [==============================] - 0s 1ms/step - loss: 0.1597 - accuracy: 0.9304\n",
            "Epoch 105/500\n",
            "35/35 [==============================] - 0s 1ms/step - loss: 0.1699 - accuracy: 0.9321\n",
            "Epoch 106/500\n",
            "35/35 [==============================] - 0s 1ms/step - loss: 0.1779 - accuracy: 0.9277\n",
            "Epoch 107/500\n",
            "35/35 [==============================] - 0s 1ms/step - loss: 0.1495 - accuracy: 0.9357\n",
            "Epoch 108/500\n",
            "35/35 [==============================] - 0s 1ms/step - loss: 0.1713 - accuracy: 0.9330\n",
            "Epoch 109/500\n",
            "35/35 [==============================] - 0s 1ms/step - loss: 0.1682 - accuracy: 0.9286\n",
            "Epoch 110/500\n",
            "35/35 [==============================] - 0s 2ms/step - loss: 0.1517 - accuracy: 0.9330\n",
            "Epoch 111/500\n",
            "35/35 [==============================] - 0s 1ms/step - loss: 0.1595 - accuracy: 0.9393\n",
            "Epoch 112/500\n",
            "35/35 [==============================] - 0s 1ms/step - loss: 0.1667 - accuracy: 0.9348\n",
            "Epoch 113/500\n",
            "35/35 [==============================] - 0s 1ms/step - loss: 0.1564 - accuracy: 0.9286\n",
            "Epoch 114/500\n",
            "35/35 [==============================] - 0s 1ms/step - loss: 0.1416 - accuracy: 0.9438\n",
            "Epoch 115/500\n",
            "35/35 [==============================] - 0s 1ms/step - loss: 0.1473 - accuracy: 0.9357\n",
            "Epoch 116/500\n",
            "35/35 [==============================] - 0s 1ms/step - loss: 0.1625 - accuracy: 0.9277\n",
            "Epoch 117/500\n",
            "35/35 [==============================] - 0s 1ms/step - loss: 0.1510 - accuracy: 0.9402\n",
            "Epoch 118/500\n",
            "35/35 [==============================] - 0s 1ms/step - loss: 0.1556 - accuracy: 0.9295\n",
            "Epoch 119/500\n",
            "35/35 [==============================] - 0s 2ms/step - loss: 0.1539 - accuracy: 0.9429\n",
            "Epoch 120/500\n",
            "35/35 [==============================] - 0s 2ms/step - loss: 0.1441 - accuracy: 0.9420\n",
            "Epoch 121/500\n",
            "35/35 [==============================] - 0s 2ms/step - loss: 0.1603 - accuracy: 0.9393\n",
            "Epoch 122/500\n",
            "35/35 [==============================] - 0s 1ms/step - loss: 0.1498 - accuracy: 0.9348\n",
            "Epoch 123/500\n",
            "35/35 [==============================] - 0s 1ms/step - loss: 0.1595 - accuracy: 0.9330\n",
            "Epoch 124/500\n",
            "35/35 [==============================] - 0s 1ms/step - loss: 0.1413 - accuracy: 0.9366\n",
            "Epoch 125/500\n",
            "35/35 [==============================] - 0s 2ms/step - loss: 0.1652 - accuracy: 0.9259\n",
            "Epoch 126/500\n",
            "35/35 [==============================] - 0s 1ms/step - loss: 0.1583 - accuracy: 0.9330\n",
            "Epoch 127/500\n",
            "35/35 [==============================] - 0s 2ms/step - loss: 0.1452 - accuracy: 0.9321\n",
            "Epoch 128/500\n",
            "35/35 [==============================] - 0s 1ms/step - loss: 0.1497 - accuracy: 0.9464\n",
            "Epoch 129/500\n",
            "35/35 [==============================] - 0s 1ms/step - loss: 0.1225 - accuracy: 0.9509\n",
            "Epoch 130/500\n",
            "35/35 [==============================] - 0s 2ms/step - loss: 0.1400 - accuracy: 0.9455\n",
            "Epoch 131/500\n",
            "35/35 [==============================] - 0s 2ms/step - loss: 0.1434 - accuracy: 0.9429\n",
            "Epoch 132/500\n",
            "35/35 [==============================] - 0s 1ms/step - loss: 0.1315 - accuracy: 0.9446\n",
            "Epoch 133/500\n",
            "35/35 [==============================] - 0s 2ms/step - loss: 0.1368 - accuracy: 0.9402\n",
            "Epoch 134/500\n",
            "35/35 [==============================] - 0s 1ms/step - loss: 0.1399 - accuracy: 0.9357\n",
            "Epoch 135/500\n",
            "35/35 [==============================] - 0s 1ms/step - loss: 0.1310 - accuracy: 0.9455\n",
            "Epoch 136/500\n",
            "35/35 [==============================] - 0s 1ms/step - loss: 0.1276 - accuracy: 0.9500\n",
            "Epoch 137/500\n",
            "35/35 [==============================] - 0s 1ms/step - loss: 0.1304 - accuracy: 0.9509\n",
            "Epoch 138/500\n",
            "35/35 [==============================] - 0s 2ms/step - loss: 0.1340 - accuracy: 0.9455\n",
            "Epoch 139/500\n",
            "35/35 [==============================] - 0s 1ms/step - loss: 0.1509 - accuracy: 0.9348\n",
            "Epoch 140/500\n",
            "35/35 [==============================] - 0s 1ms/step - loss: 0.1325 - accuracy: 0.9402\n",
            "Epoch 141/500\n",
            "35/35 [==============================] - 0s 1ms/step - loss: 0.1423 - accuracy: 0.9393\n",
            "Epoch 142/500\n",
            "35/35 [==============================] - 0s 1ms/step - loss: 0.1228 - accuracy: 0.9464\n",
            "Epoch 143/500\n",
            "35/35 [==============================] - 0s 1ms/step - loss: 0.1319 - accuracy: 0.9438\n",
            "Epoch 144/500\n",
            "35/35 [==============================] - 0s 1ms/step - loss: 0.1165 - accuracy: 0.9500\n",
            "Epoch 145/500\n",
            "35/35 [==============================] - 0s 1ms/step - loss: 0.1337 - accuracy: 0.9446\n",
            "Epoch 146/500\n",
            "35/35 [==============================] - 0s 1ms/step - loss: 0.1287 - accuracy: 0.9554\n",
            "Epoch 147/500\n",
            "35/35 [==============================] - 0s 2ms/step - loss: 0.1401 - accuracy: 0.9429\n",
            "Epoch 148/500\n",
            "35/35 [==============================] - 0s 1ms/step - loss: 0.1266 - accuracy: 0.9536\n",
            "Epoch 149/500\n",
            "35/35 [==============================] - 0s 1ms/step - loss: 0.1266 - accuracy: 0.9527\n",
            "Epoch 150/500\n",
            "35/35 [==============================] - 0s 1ms/step - loss: 0.1245 - accuracy: 0.9482\n",
            "Epoch 151/500\n",
            "35/35 [==============================] - 0s 1ms/step - loss: 0.1334 - accuracy: 0.9402\n",
            "Epoch 152/500\n",
            "35/35 [==============================] - 0s 1ms/step - loss: 0.1256 - accuracy: 0.9464\n",
            "Epoch 153/500\n",
            "35/35 [==============================] - 0s 2ms/step - loss: 0.1268 - accuracy: 0.9482\n",
            "Epoch 154/500\n",
            "35/35 [==============================] - 0s 1ms/step - loss: 0.1196 - accuracy: 0.9491\n",
            "Epoch 155/500\n",
            "35/35 [==============================] - 0s 1ms/step - loss: 0.1154 - accuracy: 0.9464\n",
            "Epoch 156/500\n",
            "35/35 [==============================] - 0s 1ms/step - loss: 0.1034 - accuracy: 0.9652\n",
            "Epoch 157/500\n",
            "35/35 [==============================] - 0s 1ms/step - loss: 0.0990 - accuracy: 0.9598\n",
            "Epoch 158/500\n",
            "35/35 [==============================] - 0s 1ms/step - loss: 0.1334 - accuracy: 0.9429\n",
            "Epoch 159/500\n",
            "35/35 [==============================] - 0s 1ms/step - loss: 0.1257 - accuracy: 0.9482\n",
            "Epoch 160/500\n",
            "35/35 [==============================] - 0s 1ms/step - loss: 0.1070 - accuracy: 0.9571\n",
            "Epoch 161/500\n",
            "35/35 [==============================] - 0s 1ms/step - loss: 0.1147 - accuracy: 0.9473\n",
            "Epoch 162/500\n",
            "35/35 [==============================] - 0s 1ms/step - loss: 0.1290 - accuracy: 0.9500\n",
            "Epoch 163/500\n",
            "35/35 [==============================] - 0s 1ms/step - loss: 0.1136 - accuracy: 0.9563\n",
            "Epoch 164/500\n",
            "35/35 [==============================] - 0s 1ms/step - loss: 0.1104 - accuracy: 0.9554\n",
            "Epoch 165/500\n",
            "35/35 [==============================] - 0s 1ms/step - loss: 0.1157 - accuracy: 0.9563\n",
            "Epoch 166/500\n",
            "35/35 [==============================] - 0s 2ms/step - loss: 0.0982 - accuracy: 0.9589\n",
            "Epoch 167/500\n",
            "35/35 [==============================] - 0s 1ms/step - loss: 0.1022 - accuracy: 0.9527\n",
            "Epoch 168/500\n",
            "35/35 [==============================] - 0s 1ms/step - loss: 0.1151 - accuracy: 0.9509\n",
            "Epoch 169/500\n",
            "35/35 [==============================] - 0s 1ms/step - loss: 0.1135 - accuracy: 0.9563\n",
            "Epoch 170/500\n",
            "35/35 [==============================] - 0s 1ms/step - loss: 0.1184 - accuracy: 0.9518\n",
            "Epoch 171/500\n",
            "35/35 [==============================] - 0s 1ms/step - loss: 0.1101 - accuracy: 0.9536\n",
            "Epoch 172/500\n",
            "35/35 [==============================] - 0s 2ms/step - loss: 0.1216 - accuracy: 0.9527\n",
            "Epoch 173/500\n",
            "35/35 [==============================] - 0s 1ms/step - loss: 0.1198 - accuracy: 0.9580\n",
            "Epoch 174/500\n",
            "35/35 [==============================] - 0s 1ms/step - loss: 0.1120 - accuracy: 0.9527\n",
            "Epoch 175/500\n",
            "35/35 [==============================] - 0s 2ms/step - loss: 0.1097 - accuracy: 0.9580\n",
            "Epoch 176/500\n",
            "35/35 [==============================] - 0s 1ms/step - loss: 0.1072 - accuracy: 0.9545\n",
            "Epoch 177/500\n",
            "35/35 [==============================] - 0s 2ms/step - loss: 0.1149 - accuracy: 0.9554\n",
            "Epoch 178/500\n",
            "35/35 [==============================] - 0s 2ms/step - loss: 0.0950 - accuracy: 0.9634\n",
            "Epoch 179/500\n",
            "35/35 [==============================] - 0s 2ms/step - loss: 0.1104 - accuracy: 0.9554\n",
            "Epoch 180/500\n",
            "35/35 [==============================] - 0s 2ms/step - loss: 0.1088 - accuracy: 0.9563\n",
            "Epoch 181/500\n",
            "35/35 [==============================] - 0s 2ms/step - loss: 0.1226 - accuracy: 0.9536\n",
            "Epoch 182/500\n",
            "35/35 [==============================] - 0s 2ms/step - loss: 0.1044 - accuracy: 0.9589\n",
            "Epoch 183/500\n",
            "35/35 [==============================] - 0s 1ms/step - loss: 0.0973 - accuracy: 0.9643\n",
            "Epoch 184/500\n",
            "35/35 [==============================] - 0s 1ms/step - loss: 0.0991 - accuracy: 0.9625\n",
            "Epoch 185/500\n",
            "35/35 [==============================] - 0s 1ms/step - loss: 0.1147 - accuracy: 0.9527\n",
            "Epoch 186/500\n",
            "35/35 [==============================] - 0s 1ms/step - loss: 0.0856 - accuracy: 0.9634\n",
            "Epoch 187/500\n",
            "35/35 [==============================] - 0s 1ms/step - loss: 0.1011 - accuracy: 0.9589\n",
            "Epoch 188/500\n",
            "35/35 [==============================] - 0s 1ms/step - loss: 0.1114 - accuracy: 0.9518\n",
            "Epoch 189/500\n",
            "35/35 [==============================] - 0s 1ms/step - loss: 0.1079 - accuracy: 0.9580\n",
            "Epoch 190/500\n",
            "35/35 [==============================] - 0s 1ms/step - loss: 0.1029 - accuracy: 0.9536\n",
            "Epoch 191/500\n",
            "35/35 [==============================] - 0s 1ms/step - loss: 0.0998 - accuracy: 0.9607\n",
            "Epoch 192/500\n",
            "35/35 [==============================] - 0s 2ms/step - loss: 0.1049 - accuracy: 0.9625\n",
            "Epoch 193/500\n",
            "35/35 [==============================] - 0s 1ms/step - loss: 0.1088 - accuracy: 0.9589\n",
            "Epoch 194/500\n",
            "35/35 [==============================] - 0s 1ms/step - loss: 0.0929 - accuracy: 0.9616\n",
            "Epoch 195/500\n",
            "35/35 [==============================] - 0s 1ms/step - loss: 0.1057 - accuracy: 0.9616\n",
            "Epoch 196/500\n",
            "35/35 [==============================] - 0s 1ms/step - loss: 0.0955 - accuracy: 0.9661\n",
            "Epoch 197/500\n",
            "35/35 [==============================] - 0s 1ms/step - loss: 0.1236 - accuracy: 0.9527\n",
            "Epoch 198/500\n",
            "35/35 [==============================] - 0s 1ms/step - loss: 0.0892 - accuracy: 0.9625\n",
            "Epoch 199/500\n",
            "35/35 [==============================] - 0s 1ms/step - loss: 0.1022 - accuracy: 0.9563\n",
            "Epoch 200/500\n",
            "35/35 [==============================] - 0s 2ms/step - loss: 0.0895 - accuracy: 0.9661\n",
            "Epoch 201/500\n",
            "35/35 [==============================] - 0s 1ms/step - loss: 0.0967 - accuracy: 0.9625\n",
            "Epoch 202/500\n",
            "35/35 [==============================] - 0s 1ms/step - loss: 0.0874 - accuracy: 0.9652\n",
            "Epoch 203/500\n",
            "35/35 [==============================] - 0s 1ms/step - loss: 0.0907 - accuracy: 0.9643\n",
            "Epoch 204/500\n",
            "35/35 [==============================] - 0s 1ms/step - loss: 0.0931 - accuracy: 0.9625\n",
            "Epoch 205/500\n",
            "35/35 [==============================] - 0s 1ms/step - loss: 0.0858 - accuracy: 0.9670\n",
            "Epoch 206/500\n",
            "35/35 [==============================] - 0s 2ms/step - loss: 0.0928 - accuracy: 0.9598\n",
            "Epoch 207/500\n",
            "35/35 [==============================] - 0s 1ms/step - loss: 0.0881 - accuracy: 0.9688\n",
            "Epoch 208/500\n",
            "35/35 [==============================] - 0s 1ms/step - loss: 0.0861 - accuracy: 0.9705\n",
            "Epoch 209/500\n",
            "35/35 [==============================] - 0s 1ms/step - loss: 0.1059 - accuracy: 0.9571\n",
            "Epoch 210/500\n",
            "35/35 [==============================] - 0s 2ms/step - loss: 0.0957 - accuracy: 0.9607\n",
            "Epoch 211/500\n",
            "35/35 [==============================] - 0s 1ms/step - loss: 0.1014 - accuracy: 0.9607\n",
            "Epoch 212/500\n",
            "35/35 [==============================] - 0s 2ms/step - loss: 0.0950 - accuracy: 0.9616\n",
            "Epoch 213/500\n",
            "35/35 [==============================] - 0s 2ms/step - loss: 0.0984 - accuracy: 0.9616\n",
            "Epoch 214/500\n",
            "35/35 [==============================] - 0s 1ms/step - loss: 0.0875 - accuracy: 0.9643\n",
            "Epoch 215/500\n",
            "35/35 [==============================] - 0s 1ms/step - loss: 0.0970 - accuracy: 0.9688\n",
            "Epoch 216/500\n",
            "35/35 [==============================] - 0s 2ms/step - loss: 0.0856 - accuracy: 0.9661\n",
            "Epoch 217/500\n",
            "35/35 [==============================] - 0s 2ms/step - loss: 0.1072 - accuracy: 0.9527\n",
            "Epoch 218/500\n",
            "35/35 [==============================] - 0s 1ms/step - loss: 0.0815 - accuracy: 0.9688\n",
            "Epoch 219/500\n",
            "35/35 [==============================] - 0s 1ms/step - loss: 0.0881 - accuracy: 0.9625\n",
            "Epoch 220/500\n",
            "35/35 [==============================] - 0s 2ms/step - loss: 0.0819 - accuracy: 0.9723\n",
            "Epoch 221/500\n",
            "35/35 [==============================] - 0s 1ms/step - loss: 0.0971 - accuracy: 0.9607\n",
            "Epoch 222/500\n",
            "35/35 [==============================] - 0s 1ms/step - loss: 0.0927 - accuracy: 0.9661\n",
            "Epoch 223/500\n",
            "35/35 [==============================] - 0s 2ms/step - loss: 0.0808 - accuracy: 0.9705\n",
            "Epoch 224/500\n",
            "35/35 [==============================] - 0s 2ms/step - loss: 0.0842 - accuracy: 0.9670\n",
            "Epoch 225/500\n",
            "35/35 [==============================] - 0s 1ms/step - loss: 0.0800 - accuracy: 0.9714\n",
            "Epoch 226/500\n",
            "35/35 [==============================] - 0s 1ms/step - loss: 0.1907 - accuracy: 0.9598\n",
            "Epoch 227/500\n",
            "35/35 [==============================] - 0s 1ms/step - loss: 0.0956 - accuracy: 0.9625\n",
            "Epoch 228/500\n",
            "35/35 [==============================] - 0s 1ms/step - loss: 0.0871 - accuracy: 0.9616\n",
            "Epoch 229/500\n",
            "35/35 [==============================] - 0s 1ms/step - loss: 0.0784 - accuracy: 0.9705\n",
            "Epoch 230/500\n",
            "35/35 [==============================] - 0s 1ms/step - loss: 0.0952 - accuracy: 0.9643\n",
            "Epoch 231/500\n",
            "35/35 [==============================] - 0s 1ms/step - loss: 0.0809 - accuracy: 0.9705\n",
            "Epoch 232/500\n",
            "35/35 [==============================] - 0s 1ms/step - loss: 0.0859 - accuracy: 0.9714\n",
            "Epoch 233/500\n",
            "35/35 [==============================] - 0s 1ms/step - loss: 0.0862 - accuracy: 0.9643\n",
            "Epoch 234/500\n",
            "35/35 [==============================] - 0s 1ms/step - loss: 0.0908 - accuracy: 0.9634\n",
            "Epoch 235/500\n",
            "35/35 [==============================] - 0s 1ms/step - loss: 0.0864 - accuracy: 0.9616\n",
            "Epoch 236/500\n",
            "35/35 [==============================] - 0s 1ms/step - loss: 0.0758 - accuracy: 0.9732\n",
            "Epoch 237/500\n",
            "35/35 [==============================] - 0s 2ms/step - loss: 0.0837 - accuracy: 0.9661\n",
            "Epoch 238/500\n",
            "35/35 [==============================] - 0s 2ms/step - loss: 0.0945 - accuracy: 0.9598\n",
            "Epoch 239/500\n",
            "35/35 [==============================] - 0s 2ms/step - loss: 0.0773 - accuracy: 0.9705\n",
            "Epoch 240/500\n",
            "35/35 [==============================] - 0s 1ms/step - loss: 0.0853 - accuracy: 0.9643\n",
            "Epoch 241/500\n",
            "35/35 [==============================] - 0s 1ms/step - loss: 0.0792 - accuracy: 0.9634\n",
            "Epoch 242/500\n",
            "35/35 [==============================] - 0s 1ms/step - loss: 0.0821 - accuracy: 0.9679\n",
            "Epoch 243/500\n",
            "35/35 [==============================] - 0s 1ms/step - loss: 0.0797 - accuracy: 0.9723\n",
            "Epoch 244/500\n",
            "35/35 [==============================] - 0s 2ms/step - loss: 0.0823 - accuracy: 0.9670\n",
            "Epoch 245/500\n",
            "35/35 [==============================] - 0s 1ms/step - loss: 0.0945 - accuracy: 0.9598\n",
            "Epoch 246/500\n",
            "35/35 [==============================] - 0s 1ms/step - loss: 0.0939 - accuracy: 0.9598\n",
            "Epoch 247/500\n",
            "35/35 [==============================] - 0s 2ms/step - loss: 0.0715 - accuracy: 0.9705\n",
            "Epoch 248/500\n",
            "35/35 [==============================] - 0s 2ms/step - loss: 0.0713 - accuracy: 0.9705\n",
            "Epoch 249/500\n",
            "35/35 [==============================] - 0s 1ms/step - loss: 0.0796 - accuracy: 0.9696\n",
            "Epoch 250/500\n",
            "35/35 [==============================] - 0s 1ms/step - loss: 0.0731 - accuracy: 0.9741\n",
            "Epoch 251/500\n",
            "35/35 [==============================] - 0s 1ms/step - loss: 0.0815 - accuracy: 0.9670\n",
            "Epoch 252/500\n",
            "35/35 [==============================] - 0s 1ms/step - loss: 0.0827 - accuracy: 0.9723\n",
            "Epoch 253/500\n",
            "35/35 [==============================] - 0s 1ms/step - loss: 0.0702 - accuracy: 0.9723\n",
            "Epoch 254/500\n",
            "35/35 [==============================] - 0s 1ms/step - loss: 0.0832 - accuracy: 0.9705\n",
            "Epoch 255/500\n",
            "35/35 [==============================] - 0s 1ms/step - loss: 0.0895 - accuracy: 0.9643\n",
            "Epoch 256/500\n",
            "35/35 [==============================] - 0s 1ms/step - loss: 0.0673 - accuracy: 0.9723\n",
            "Epoch 257/500\n",
            "35/35 [==============================] - 0s 1ms/step - loss: 0.0827 - accuracy: 0.9714\n",
            "Epoch 258/500\n",
            "35/35 [==============================] - 0s 1ms/step - loss: 0.0805 - accuracy: 0.9723\n",
            "Epoch 259/500\n",
            "35/35 [==============================] - 0s 1ms/step - loss: 0.0747 - accuracy: 0.9696\n",
            "Epoch 260/500\n",
            "35/35 [==============================] - 0s 1ms/step - loss: 0.0681 - accuracy: 0.9732\n",
            "Epoch 261/500\n",
            "35/35 [==============================] - 0s 1ms/step - loss: 0.0772 - accuracy: 0.9670\n",
            "Epoch 262/500\n",
            "35/35 [==============================] - 0s 2ms/step - loss: 0.0874 - accuracy: 0.9670\n",
            "Epoch 263/500\n",
            "35/35 [==============================] - 0s 1ms/step - loss: 0.0786 - accuracy: 0.9652\n",
            "Epoch 264/500\n",
            "35/35 [==============================] - 0s 1ms/step - loss: 0.0811 - accuracy: 0.9679\n",
            "Epoch 265/500\n",
            "35/35 [==============================] - 0s 1ms/step - loss: 0.0651 - accuracy: 0.9777\n",
            "Epoch 266/500\n",
            "35/35 [==============================] - 0s 1ms/step - loss: 0.0770 - accuracy: 0.9598\n",
            "Epoch 267/500\n",
            "35/35 [==============================] - 0s 1ms/step - loss: 0.0838 - accuracy: 0.9607\n",
            "Epoch 268/500\n",
            "35/35 [==============================] - 0s 1ms/step - loss: 0.0934 - accuracy: 0.9634\n",
            "Epoch 269/500\n",
            "35/35 [==============================] - 0s 2ms/step - loss: 0.0790 - accuracy: 0.9705\n",
            "Epoch 270/500\n",
            "35/35 [==============================] - 0s 1ms/step - loss: 0.0692 - accuracy: 0.9750\n",
            "Epoch 271/500\n",
            "35/35 [==============================] - 0s 1ms/step - loss: 0.0833 - accuracy: 0.9598\n",
            "Epoch 272/500\n",
            "35/35 [==============================] - 0s 2ms/step - loss: 0.0852 - accuracy: 0.9616\n",
            "Epoch 273/500\n",
            "35/35 [==============================] - 0s 1ms/step - loss: 0.0709 - accuracy: 0.9643\n",
            "Epoch 274/500\n",
            "35/35 [==============================] - 0s 2ms/step - loss: 0.0813 - accuracy: 0.9696\n",
            "Epoch 275/500\n",
            "35/35 [==============================] - 0s 2ms/step - loss: 0.0752 - accuracy: 0.9723\n",
            "Epoch 276/500\n",
            "35/35 [==============================] - 0s 2ms/step - loss: 0.0748 - accuracy: 0.9696\n",
            "Epoch 277/500\n",
            "35/35 [==============================] - 0s 1ms/step - loss: 0.0730 - accuracy: 0.9696\n",
            "Epoch 278/500\n",
            "35/35 [==============================] - 0s 1ms/step - loss: 0.0699 - accuracy: 0.9688\n",
            "Epoch 279/500\n",
            "35/35 [==============================] - 0s 2ms/step - loss: 0.0713 - accuracy: 0.9714\n",
            "Epoch 280/500\n",
            "35/35 [==============================] - 0s 1ms/step - loss: 0.0671 - accuracy: 0.9732\n",
            "Epoch 281/500\n",
            "35/35 [==============================] - 0s 1ms/step - loss: 0.0844 - accuracy: 0.9652\n",
            "Epoch 282/500\n",
            "35/35 [==============================] - 0s 2ms/step - loss: 0.0896 - accuracy: 0.9696\n",
            "Epoch 283/500\n",
            "35/35 [==============================] - 0s 2ms/step - loss: 0.2860 - accuracy: 0.9750\n",
            "Epoch 284/500\n",
            "35/35 [==============================] - 0s 2ms/step - loss: 0.0704 - accuracy: 0.9705\n",
            "Epoch 285/500\n",
            "35/35 [==============================] - 0s 1ms/step - loss: 0.0777 - accuracy: 0.9688\n",
            "Epoch 286/500\n",
            "35/35 [==============================] - 0s 1ms/step - loss: 0.0827 - accuracy: 0.9670\n",
            "Epoch 287/500\n",
            "35/35 [==============================] - 0s 1ms/step - loss: 0.0941 - accuracy: 0.9696\n",
            "Epoch 288/500\n",
            "35/35 [==============================] - 0s 1ms/step - loss: 0.0757 - accuracy: 0.9679\n",
            "Epoch 289/500\n",
            "35/35 [==============================] - 0s 1ms/step - loss: 0.0690 - accuracy: 0.9714\n",
            "Epoch 290/500\n",
            "35/35 [==============================] - 0s 1ms/step - loss: 0.0667 - accuracy: 0.9723\n",
            "Epoch 291/500\n",
            "35/35 [==============================] - 0s 1ms/step - loss: 0.0792 - accuracy: 0.9652\n",
            "Epoch 292/500\n",
            "35/35 [==============================] - 0s 2ms/step - loss: 0.0711 - accuracy: 0.9670\n",
            "Epoch 293/500\n",
            "35/35 [==============================] - 0s 2ms/step - loss: 0.0659 - accuracy: 0.9750\n",
            "Epoch 294/500\n",
            "35/35 [==============================] - 0s 1ms/step - loss: 0.0742 - accuracy: 0.9705\n",
            "Epoch 295/500\n",
            "35/35 [==============================] - 0s 1ms/step - loss: 0.0557 - accuracy: 0.9804\n",
            "Epoch 296/500\n",
            "35/35 [==============================] - 0s 2ms/step - loss: 0.0780 - accuracy: 0.9679\n",
            "Epoch 297/500\n",
            "35/35 [==============================] - 0s 2ms/step - loss: 0.0673 - accuracy: 0.9679\n",
            "Epoch 298/500\n",
            "35/35 [==============================] - 0s 2ms/step - loss: 0.0758 - accuracy: 0.9670\n",
            "Epoch 299/500\n",
            "35/35 [==============================] - 0s 1ms/step - loss: 0.0802 - accuracy: 0.9705\n",
            "Epoch 300/500\n",
            "35/35 [==============================] - 0s 1ms/step - loss: 0.0682 - accuracy: 0.9732\n",
            "Epoch 301/500\n",
            "35/35 [==============================] - 0s 1ms/step - loss: 0.0613 - accuracy: 0.9759\n",
            "Epoch 302/500\n",
            "35/35 [==============================] - 0s 1ms/step - loss: 0.0633 - accuracy: 0.9759\n",
            "Epoch 303/500\n",
            "35/35 [==============================] - 0s 1ms/step - loss: 0.0687 - accuracy: 0.9705\n",
            "Epoch 304/500\n",
            "35/35 [==============================] - 0s 1ms/step - loss: 0.0719 - accuracy: 0.9741\n",
            "Epoch 305/500\n",
            "35/35 [==============================] - 0s 1ms/step - loss: 0.0747 - accuracy: 0.9714\n",
            "Epoch 306/500\n",
            "35/35 [==============================] - 0s 1ms/step - loss: 0.0514 - accuracy: 0.9750\n",
            "Epoch 307/500\n",
            "35/35 [==============================] - 0s 1ms/step - loss: 0.0676 - accuracy: 0.9696\n",
            "Epoch 308/500\n",
            "35/35 [==============================] - 0s 1ms/step - loss: 0.0826 - accuracy: 0.9661\n",
            "Epoch 309/500\n",
            "35/35 [==============================] - 0s 2ms/step - loss: 0.0676 - accuracy: 0.9714\n",
            "Epoch 310/500\n",
            "35/35 [==============================] - 0s 1ms/step - loss: 0.0720 - accuracy: 0.9714\n",
            "Epoch 311/500\n",
            "35/35 [==============================] - 0s 1ms/step - loss: 0.0762 - accuracy: 0.9705\n",
            "Epoch 312/500\n",
            "35/35 [==============================] - 0s 1ms/step - loss: 0.0830 - accuracy: 0.9732\n",
            "Epoch 313/500\n",
            "35/35 [==============================] - 0s 2ms/step - loss: 0.0685 - accuracy: 0.9732\n",
            "Epoch 314/500\n",
            "35/35 [==============================] - 0s 1ms/step - loss: 0.0706 - accuracy: 0.9732\n",
            "Epoch 315/500\n",
            "35/35 [==============================] - 0s 1ms/step - loss: 0.0660 - accuracy: 0.9723\n",
            "Epoch 316/500\n",
            "35/35 [==============================] - 0s 1ms/step - loss: 0.0647 - accuracy: 0.9777\n",
            "Epoch 317/500\n",
            "35/35 [==============================] - 0s 1ms/step - loss: 0.0709 - accuracy: 0.9679\n",
            "Epoch 318/500\n",
            "35/35 [==============================] - 0s 2ms/step - loss: 0.0743 - accuracy: 0.9679\n",
            "Epoch 319/500\n",
            "35/35 [==============================] - 0s 1ms/step - loss: 0.0649 - accuracy: 0.9723\n",
            "Epoch 320/500\n",
            "35/35 [==============================] - 0s 1ms/step - loss: 0.0638 - accuracy: 0.9777\n",
            "Epoch 321/500\n",
            "35/35 [==============================] - 0s 1ms/step - loss: 0.0608 - accuracy: 0.9723\n",
            "Epoch 322/500\n",
            "35/35 [==============================] - 0s 1ms/step - loss: 0.0754 - accuracy: 0.9696\n",
            "Epoch 323/500\n",
            "35/35 [==============================] - 0s 1ms/step - loss: 0.0748 - accuracy: 0.9670\n",
            "Epoch 324/500\n",
            "35/35 [==============================] - 0s 1ms/step - loss: 0.0669 - accuracy: 0.9714\n",
            "Epoch 325/500\n",
            "35/35 [==============================] - 0s 1ms/step - loss: 0.0674 - accuracy: 0.9732\n",
            "Epoch 326/500\n",
            "35/35 [==============================] - 0s 1ms/step - loss: 0.0791 - accuracy: 0.9705\n",
            "Epoch 327/500\n",
            "35/35 [==============================] - 0s 1ms/step - loss: 0.0640 - accuracy: 0.9714\n",
            "Epoch 328/500\n",
            "35/35 [==============================] - 0s 1ms/step - loss: 0.0714 - accuracy: 0.9696\n",
            "Epoch 329/500\n",
            "35/35 [==============================] - 0s 1ms/step - loss: 0.0711 - accuracy: 0.9696\n",
            "Epoch 330/500\n",
            "35/35 [==============================] - 0s 2ms/step - loss: 0.0740 - accuracy: 0.9643\n",
            "Epoch 331/500\n",
            "35/35 [==============================] - 0s 2ms/step - loss: 0.0781 - accuracy: 0.9714\n",
            "Epoch 332/500\n",
            "35/35 [==============================] - 0s 2ms/step - loss: 0.0785 - accuracy: 0.9670\n",
            "Epoch 333/500\n",
            "35/35 [==============================] - 0s 1ms/step - loss: 0.0631 - accuracy: 0.9741\n",
            "Epoch 334/500\n",
            "35/35 [==============================] - 0s 2ms/step - loss: 0.0607 - accuracy: 0.9777\n",
            "Epoch 335/500\n",
            "35/35 [==============================] - 0s 2ms/step - loss: 0.0626 - accuracy: 0.9696\n",
            "Epoch 336/500\n",
            "35/35 [==============================] - 0s 1ms/step - loss: 0.0593 - accuracy: 0.9750\n",
            "Epoch 337/500\n",
            "35/35 [==============================] - 0s 2ms/step - loss: 0.0756 - accuracy: 0.9652\n",
            "Epoch 338/500\n",
            "35/35 [==============================] - 0s 1ms/step - loss: 0.0711 - accuracy: 0.9688\n",
            "Epoch 339/500\n",
            "35/35 [==============================] - 0s 2ms/step - loss: 0.0584 - accuracy: 0.9732\n",
            "Epoch 340/500\n",
            "35/35 [==============================] - 0s 2ms/step - loss: 0.0670 - accuracy: 0.9741\n",
            "Epoch 341/500\n",
            "35/35 [==============================] - 0s 2ms/step - loss: 0.0696 - accuracy: 0.9732\n",
            "Epoch 342/500\n",
            "35/35 [==============================] - 0s 1ms/step - loss: 0.0711 - accuracy: 0.9714\n",
            "Epoch 343/500\n",
            "35/35 [==============================] - 0s 1ms/step - loss: 0.0673 - accuracy: 0.9723\n",
            "Epoch 344/500\n",
            "35/35 [==============================] - 0s 1ms/step - loss: 0.0599 - accuracy: 0.9768\n",
            "Epoch 345/500\n",
            "35/35 [==============================] - 0s 1ms/step - loss: 0.0595 - accuracy: 0.9741\n",
            "Epoch 346/500\n",
            "35/35 [==============================] - 0s 1ms/step - loss: 0.1641 - accuracy: 0.9732\n",
            "Epoch 347/500\n",
            "35/35 [==============================] - 0s 2ms/step - loss: 0.0695 - accuracy: 0.9670\n",
            "Epoch 348/500\n",
            "35/35 [==============================] - 0s 2ms/step - loss: 0.0567 - accuracy: 0.9768\n",
            "Epoch 349/500\n",
            "35/35 [==============================] - 0s 2ms/step - loss: 0.0772 - accuracy: 0.9750\n",
            "Epoch 350/500\n",
            "35/35 [==============================] - 0s 2ms/step - loss: 0.0686 - accuracy: 0.9732\n",
            "Epoch 351/500\n",
            "35/35 [==============================] - 0s 1ms/step - loss: 0.0688 - accuracy: 0.9750\n",
            "Epoch 352/500\n",
            "35/35 [==============================] - 0s 2ms/step - loss: 0.0522 - accuracy: 0.9768\n",
            "Epoch 353/500\n",
            "35/35 [==============================] - 0s 1ms/step - loss: 0.0758 - accuracy: 0.9688\n",
            "Epoch 354/500\n",
            "35/35 [==============================] - 0s 1ms/step - loss: 0.0570 - accuracy: 0.9795\n",
            "Epoch 355/500\n",
            "35/35 [==============================] - 0s 1ms/step - loss: 0.0541 - accuracy: 0.9732\n",
            "Epoch 356/500\n",
            "35/35 [==============================] - 0s 1ms/step - loss: 0.0604 - accuracy: 0.9759\n",
            "Epoch 357/500\n",
            "35/35 [==============================] - 0s 1ms/step - loss: 0.0611 - accuracy: 0.9804\n",
            "Epoch 358/500\n",
            "35/35 [==============================] - 0s 1ms/step - loss: 0.0636 - accuracy: 0.9750\n",
            "Epoch 359/500\n",
            "35/35 [==============================] - 0s 1ms/step - loss: 0.0598 - accuracy: 0.9750\n",
            "Epoch 360/500\n",
            "35/35 [==============================] - 0s 1ms/step - loss: 0.0908 - accuracy: 0.9723\n",
            "Epoch 361/500\n",
            "35/35 [==============================] - 0s 1ms/step - loss: 0.0608 - accuracy: 0.9750\n",
            "Epoch 362/500\n",
            "35/35 [==============================] - 0s 1ms/step - loss: 0.0799 - accuracy: 0.9661\n",
            "Epoch 363/500\n",
            "35/35 [==============================] - 0s 1ms/step - loss: 0.0736 - accuracy: 0.9705\n",
            "Epoch 364/500\n",
            "35/35 [==============================] - 0s 1ms/step - loss: 0.0510 - accuracy: 0.9804\n",
            "Epoch 365/500\n",
            "35/35 [==============================] - 0s 1ms/step - loss: 0.0584 - accuracy: 0.9759\n",
            "Epoch 366/500\n",
            "35/35 [==============================] - 0s 2ms/step - loss: 0.0693 - accuracy: 0.9723\n",
            "Epoch 367/500\n",
            "35/35 [==============================] - 0s 1ms/step - loss: 0.0651 - accuracy: 0.9732\n",
            "Epoch 368/500\n",
            "35/35 [==============================] - 0s 2ms/step - loss: 0.0681 - accuracy: 0.9705\n",
            "Epoch 369/500\n",
            "35/35 [==============================] - 0s 2ms/step - loss: 0.0597 - accuracy: 0.9750\n",
            "Epoch 370/500\n",
            "35/35 [==============================] - 0s 2ms/step - loss: 0.0644 - accuracy: 0.9741\n",
            "Epoch 371/500\n",
            "35/35 [==============================] - 0s 1ms/step - loss: 0.0731 - accuracy: 0.9670\n",
            "Epoch 372/500\n",
            "35/35 [==============================] - 0s 1ms/step - loss: 0.0684 - accuracy: 0.9723\n",
            "Epoch 373/500\n",
            "35/35 [==============================] - 0s 1ms/step - loss: 0.0495 - accuracy: 0.9821\n",
            "Epoch 374/500\n",
            "35/35 [==============================] - 0s 2ms/step - loss: 0.0562 - accuracy: 0.9759\n",
            "Epoch 375/500\n",
            "35/35 [==============================] - 0s 2ms/step - loss: 0.0609 - accuracy: 0.9750\n",
            "Epoch 376/500\n",
            "35/35 [==============================] - 0s 1ms/step - loss: 0.0499 - accuracy: 0.9768\n",
            "Epoch 377/500\n",
            "35/35 [==============================] - 0s 1ms/step - loss: 0.0468 - accuracy: 0.9821\n",
            "Epoch 378/500\n",
            "35/35 [==============================] - 0s 1ms/step - loss: 0.0485 - accuracy: 0.9812\n",
            "Epoch 379/500\n",
            "35/35 [==============================] - 0s 1ms/step - loss: 0.0515 - accuracy: 0.9768\n",
            "Epoch 380/500\n",
            "35/35 [==============================] - 0s 2ms/step - loss: 0.0501 - accuracy: 0.9786\n",
            "Epoch 381/500\n",
            "35/35 [==============================] - 0s 2ms/step - loss: 0.0610 - accuracy: 0.9732\n",
            "Epoch 382/500\n",
            "35/35 [==============================] - 0s 1ms/step - loss: 0.0481 - accuracy: 0.9821\n",
            "Epoch 383/500\n",
            "35/35 [==============================] - 0s 2ms/step - loss: 0.0531 - accuracy: 0.9821\n",
            "Epoch 384/500\n",
            "35/35 [==============================] - 0s 2ms/step - loss: 0.0556 - accuracy: 0.9777\n",
            "Epoch 385/500\n",
            "35/35 [==============================] - 0s 1ms/step - loss: 0.0762 - accuracy: 0.9705\n",
            "Epoch 386/500\n",
            "35/35 [==============================] - 0s 2ms/step - loss: 0.0655 - accuracy: 0.9696\n",
            "Epoch 387/500\n",
            "35/35 [==============================] - 0s 1ms/step - loss: 0.0540 - accuracy: 0.9786\n",
            "Epoch 388/500\n",
            "35/35 [==============================] - 0s 1ms/step - loss: 0.0558 - accuracy: 0.9777\n",
            "Epoch 389/500\n",
            "35/35 [==============================] - 0s 1ms/step - loss: 0.0635 - accuracy: 0.9705\n",
            "Epoch 390/500\n",
            "35/35 [==============================] - 0s 2ms/step - loss: 0.0612 - accuracy: 0.9732\n",
            "Epoch 391/500\n",
            "35/35 [==============================] - 0s 1ms/step - loss: 0.0606 - accuracy: 0.9759\n",
            "Epoch 392/500\n",
            "35/35 [==============================] - 0s 2ms/step - loss: 0.0572 - accuracy: 0.9750\n",
            "Epoch 393/500\n",
            "35/35 [==============================] - 0s 1ms/step - loss: 0.1364 - accuracy: 0.9795\n",
            "Epoch 394/500\n",
            "35/35 [==============================] - 0s 1ms/step - loss: 0.0688 - accuracy: 0.9732\n",
            "Epoch 395/500\n",
            "35/35 [==============================] - 0s 1ms/step - loss: 0.0511 - accuracy: 0.9759\n",
            "Epoch 396/500\n",
            "35/35 [==============================] - 0s 2ms/step - loss: 0.0592 - accuracy: 0.9732\n",
            "Epoch 397/500\n",
            "35/35 [==============================] - 0s 2ms/step - loss: 0.0766 - accuracy: 0.9670\n",
            "Epoch 398/500\n",
            "35/35 [==============================] - 0s 2ms/step - loss: 0.0571 - accuracy: 0.9768\n",
            "Epoch 399/500\n",
            "35/35 [==============================] - 0s 2ms/step - loss: 0.0675 - accuracy: 0.9732\n",
            "Epoch 400/500\n",
            "35/35 [==============================] - 0s 2ms/step - loss: 0.0578 - accuracy: 0.9750\n",
            "Epoch 401/500\n",
            "35/35 [==============================] - 0s 1ms/step - loss: 0.0619 - accuracy: 0.9750\n",
            "Epoch 402/500\n",
            "35/35 [==============================] - 0s 1ms/step - loss: 0.0478 - accuracy: 0.9812\n",
            "Epoch 403/500\n",
            "35/35 [==============================] - 0s 2ms/step - loss: 0.0625 - accuracy: 0.9732\n",
            "Epoch 404/500\n",
            "35/35 [==============================] - 0s 2ms/step - loss: 0.0640 - accuracy: 0.9750\n",
            "Epoch 405/500\n",
            "35/35 [==============================] - 0s 1ms/step - loss: 0.0609 - accuracy: 0.9750\n",
            "Epoch 406/500\n",
            "35/35 [==============================] - 0s 1ms/step - loss: 0.0615 - accuracy: 0.9768\n",
            "Epoch 407/500\n",
            "35/35 [==============================] - 0s 2ms/step - loss: 0.0627 - accuracy: 0.9750\n",
            "Epoch 408/500\n",
            "35/35 [==============================] - 0s 1ms/step - loss: 0.0631 - accuracy: 0.9741\n",
            "Epoch 409/500\n",
            "35/35 [==============================] - 0s 2ms/step - loss: 0.0543 - accuracy: 0.9741\n",
            "Epoch 410/500\n",
            "35/35 [==============================] - 0s 2ms/step - loss: 0.0642 - accuracy: 0.9795\n",
            "Epoch 411/500\n",
            "35/35 [==============================] - 0s 1ms/step - loss: 0.0567 - accuracy: 0.9714\n",
            "Epoch 412/500\n",
            "35/35 [==============================] - 0s 2ms/step - loss: 0.0528 - accuracy: 0.9821\n",
            "Epoch 413/500\n",
            "35/35 [==============================] - 0s 1ms/step - loss: 0.0504 - accuracy: 0.9795\n",
            "Epoch 414/500\n",
            "35/35 [==============================] - 0s 1ms/step - loss: 0.0674 - accuracy: 0.9705\n",
            "Epoch 415/500\n",
            "35/35 [==============================] - 0s 1ms/step - loss: 0.0561 - accuracy: 0.9768\n",
            "Epoch 416/500\n",
            "35/35 [==============================] - 0s 2ms/step - loss: 0.0707 - accuracy: 0.9714\n",
            "Epoch 417/500\n",
            "35/35 [==============================] - 0s 1ms/step - loss: 0.0550 - accuracy: 0.9750\n",
            "Epoch 418/500\n",
            "35/35 [==============================] - 0s 1ms/step - loss: 0.0523 - accuracy: 0.9750\n",
            "Epoch 419/500\n",
            "35/35 [==============================] - 0s 1ms/step - loss: 0.0644 - accuracy: 0.9723\n",
            "Epoch 420/500\n",
            "35/35 [==============================] - 0s 2ms/step - loss: 0.0569 - accuracy: 0.9723\n",
            "Epoch 421/500\n",
            "35/35 [==============================] - 0s 1ms/step - loss: 0.0453 - accuracy: 0.9804\n",
            "Epoch 422/500\n",
            "35/35 [==============================] - 0s 2ms/step - loss: 0.0640 - accuracy: 0.9732\n",
            "Epoch 423/500\n",
            "35/35 [==============================] - 0s 2ms/step - loss: 0.0550 - accuracy: 0.9759\n",
            "Epoch 424/500\n",
            "35/35 [==============================] - 0s 2ms/step - loss: 0.0608 - accuracy: 0.9777\n",
            "Epoch 425/500\n",
            "35/35 [==============================] - 0s 2ms/step - loss: 0.0618 - accuracy: 0.9759\n",
            "Epoch 426/500\n",
            "35/35 [==============================] - 0s 2ms/step - loss: 0.0655 - accuracy: 0.9723\n",
            "Epoch 427/500\n",
            "35/35 [==============================] - 0s 1ms/step - loss: 0.0623 - accuracy: 0.9705\n",
            "Epoch 428/500\n",
            "35/35 [==============================] - 0s 2ms/step - loss: 0.0588 - accuracy: 0.9750\n",
            "Epoch 429/500\n",
            "35/35 [==============================] - 0s 1ms/step - loss: 0.0501 - accuracy: 0.9821\n",
            "Epoch 430/500\n",
            "35/35 [==============================] - 0s 2ms/step - loss: 0.0481 - accuracy: 0.9804\n",
            "Epoch 431/500\n",
            "35/35 [==============================] - 0s 2ms/step - loss: 0.0658 - accuracy: 0.9804\n",
            "Epoch 432/500\n",
            "35/35 [==============================] - 0s 2ms/step - loss: 0.0569 - accuracy: 0.9723\n",
            "Epoch 433/500\n",
            "35/35 [==============================] - 0s 2ms/step - loss: 0.0522 - accuracy: 0.9795\n",
            "Epoch 434/500\n",
            "35/35 [==============================] - 0s 2ms/step - loss: 0.0532 - accuracy: 0.9795\n",
            "Epoch 435/500\n",
            "35/35 [==============================] - 0s 2ms/step - loss: 0.0643 - accuracy: 0.9688\n",
            "Epoch 436/500\n",
            "35/35 [==============================] - 0s 1ms/step - loss: 0.0537 - accuracy: 0.9795\n",
            "Epoch 437/500\n",
            "35/35 [==============================] - 0s 1ms/step - loss: 0.0569 - accuracy: 0.9723\n",
            "Epoch 438/500\n",
            "35/35 [==============================] - 0s 2ms/step - loss: 0.0595 - accuracy: 0.9768\n",
            "Epoch 439/500\n",
            "35/35 [==============================] - 0s 2ms/step - loss: 0.0527 - accuracy: 0.9768\n",
            "Epoch 440/500\n",
            "35/35 [==============================] - 0s 1ms/step - loss: 0.0562 - accuracy: 0.9750\n",
            "Epoch 441/500\n",
            "35/35 [==============================] - 0s 2ms/step - loss: 0.0615 - accuracy: 0.9741\n",
            "Epoch 442/500\n",
            "35/35 [==============================] - 0s 2ms/step - loss: 0.0606 - accuracy: 0.9714\n",
            "Epoch 443/500\n",
            "35/35 [==============================] - 0s 2ms/step - loss: 0.0522 - accuracy: 0.9804\n",
            "Epoch 444/500\n",
            "35/35 [==============================] - 0s 2ms/step - loss: 0.0539 - accuracy: 0.9750\n",
            "Epoch 445/500\n",
            "35/35 [==============================] - 0s 1ms/step - loss: 0.0625 - accuracy: 0.9741\n",
            "Epoch 446/500\n",
            "35/35 [==============================] - 0s 2ms/step - loss: 0.0517 - accuracy: 0.9812\n",
            "Epoch 447/500\n",
            "35/35 [==============================] - 0s 2ms/step - loss: 0.0490 - accuracy: 0.9759\n",
            "Epoch 448/500\n",
            "35/35 [==============================] - 0s 2ms/step - loss: 0.0569 - accuracy: 0.9750\n",
            "Epoch 449/500\n",
            "35/35 [==============================] - 0s 2ms/step - loss: 0.0552 - accuracy: 0.9750\n",
            "Epoch 450/500\n",
            "35/35 [==============================] - 0s 2ms/step - loss: 0.0573 - accuracy: 0.9714\n",
            "Epoch 451/500\n",
            "35/35 [==============================] - 0s 2ms/step - loss: 0.0657 - accuracy: 0.9688\n",
            "Epoch 452/500\n",
            "35/35 [==============================] - 0s 1ms/step - loss: 0.0661 - accuracy: 0.9714\n",
            "Epoch 453/500\n",
            "35/35 [==============================] - 0s 2ms/step - loss: 0.0619 - accuracy: 0.9732\n",
            "Epoch 454/500\n",
            "35/35 [==============================] - 0s 2ms/step - loss: 0.0487 - accuracy: 0.9759\n",
            "Epoch 455/500\n",
            "35/35 [==============================] - 0s 2ms/step - loss: 0.0527 - accuracy: 0.9786\n",
            "Epoch 456/500\n",
            "35/35 [==============================] - 0s 2ms/step - loss: 0.0570 - accuracy: 0.9768\n",
            "Epoch 457/500\n",
            "35/35 [==============================] - 0s 2ms/step - loss: 0.0513 - accuracy: 0.9732\n",
            "Epoch 458/500\n",
            "35/35 [==============================] - 0s 2ms/step - loss: 0.0631 - accuracy: 0.9741\n",
            "Epoch 459/500\n",
            "35/35 [==============================] - 0s 2ms/step - loss: 0.0548 - accuracy: 0.9768\n",
            "Epoch 460/500\n",
            "35/35 [==============================] - 0s 2ms/step - loss: 0.0636 - accuracy: 0.9750\n",
            "Epoch 461/500\n",
            "35/35 [==============================] - 0s 2ms/step - loss: 0.0562 - accuracy: 0.9741\n",
            "Epoch 462/500\n",
            "35/35 [==============================] - 0s 2ms/step - loss: 0.0612 - accuracy: 0.9714\n",
            "Epoch 463/500\n",
            "35/35 [==============================] - 0s 2ms/step - loss: 0.0529 - accuracy: 0.9804\n",
            "Epoch 464/500\n",
            "35/35 [==============================] - 0s 2ms/step - loss: 0.0498 - accuracy: 0.9786\n",
            "Epoch 465/500\n",
            "35/35 [==============================] - 0s 1ms/step - loss: 0.0559 - accuracy: 0.9750\n",
            "Epoch 466/500\n",
            "35/35 [==============================] - 0s 2ms/step - loss: 0.0516 - accuracy: 0.9759\n",
            "Epoch 467/500\n",
            "35/35 [==============================] - 0s 2ms/step - loss: 0.0621 - accuracy: 0.9759\n",
            "Epoch 468/500\n",
            "35/35 [==============================] - 0s 2ms/step - loss: 0.0586 - accuracy: 0.9768\n",
            "Epoch 469/500\n",
            "35/35 [==============================] - 0s 2ms/step - loss: 0.0494 - accuracy: 0.9804\n",
            "Epoch 470/500\n",
            "35/35 [==============================] - 0s 2ms/step - loss: 0.0447 - accuracy: 0.9795\n",
            "Epoch 471/500\n",
            "35/35 [==============================] - 0s 2ms/step - loss: 0.0538 - accuracy: 0.9804\n",
            "Epoch 472/500\n",
            "35/35 [==============================] - 0s 2ms/step - loss: 0.0516 - accuracy: 0.9786\n",
            "Epoch 473/500\n",
            "35/35 [==============================] - 0s 1ms/step - loss: 0.0515 - accuracy: 0.9804\n",
            "Epoch 474/500\n",
            "35/35 [==============================] - 0s 1ms/step - loss: 0.0474 - accuracy: 0.9795\n",
            "Epoch 475/500\n",
            "35/35 [==============================] - 0s 2ms/step - loss: 0.0465 - accuracy: 0.9786\n",
            "Epoch 476/500\n",
            "35/35 [==============================] - 0s 2ms/step - loss: 0.0490 - accuracy: 0.9777\n",
            "Epoch 477/500\n",
            "35/35 [==============================] - 0s 2ms/step - loss: 0.0453 - accuracy: 0.9804\n",
            "Epoch 478/500\n",
            "35/35 [==============================] - 0s 1ms/step - loss: 0.0468 - accuracy: 0.9812\n",
            "Epoch 479/500\n",
            "35/35 [==============================] - 0s 1ms/step - loss: 0.0632 - accuracy: 0.9741\n",
            "Epoch 480/500\n",
            "35/35 [==============================] - 0s 1ms/step - loss: 0.0414 - accuracy: 0.9830\n",
            "Epoch 481/500\n",
            "35/35 [==============================] - 0s 1ms/step - loss: 0.0641 - accuracy: 0.9741\n",
            "Epoch 482/500\n",
            "35/35 [==============================] - 0s 2ms/step - loss: 0.0528 - accuracy: 0.9741\n",
            "Epoch 483/500\n",
            "35/35 [==============================] - 0s 1ms/step - loss: 0.0500 - accuracy: 0.9786\n",
            "Epoch 484/500\n",
            "35/35 [==============================] - 0s 2ms/step - loss: 0.0461 - accuracy: 0.9777\n",
            "Epoch 485/500\n",
            "35/35 [==============================] - 0s 2ms/step - loss: 0.0505 - accuracy: 0.9759\n",
            "Epoch 486/500\n",
            "35/35 [==============================] - 0s 2ms/step - loss: 0.0529 - accuracy: 0.9795\n",
            "Epoch 487/500\n",
            "35/35 [==============================] - 0s 2ms/step - loss: 0.0558 - accuracy: 0.9714\n",
            "Epoch 488/500\n",
            "35/35 [==============================] - 0s 2ms/step - loss: 0.0569 - accuracy: 0.9804\n",
            "Epoch 489/500\n",
            "35/35 [==============================] - 0s 2ms/step - loss: 0.0439 - accuracy: 0.9812\n",
            "Epoch 490/500\n",
            "35/35 [==============================] - 0s 2ms/step - loss: 0.0505 - accuracy: 0.9768\n",
            "Epoch 491/500\n",
            "35/35 [==============================] - 0s 2ms/step - loss: 0.0504 - accuracy: 0.9795\n",
            "Epoch 492/500\n",
            "35/35 [==============================] - 0s 2ms/step - loss: 0.0435 - accuracy: 0.9839\n",
            "Epoch 493/500\n",
            "35/35 [==============================] - 0s 1ms/step - loss: 0.0521 - accuracy: 0.9777\n",
            "Epoch 494/500\n",
            "35/35 [==============================] - 0s 1ms/step - loss: 0.0519 - accuracy: 0.9812\n",
            "Epoch 495/500\n",
            "35/35 [==============================] - 0s 2ms/step - loss: 0.0424 - accuracy: 0.9812\n",
            "Epoch 496/500\n",
            "35/35 [==============================] - 0s 2ms/step - loss: 0.0437 - accuracy: 0.9812\n",
            "Epoch 497/500\n",
            "35/35 [==============================] - 0s 1ms/step - loss: 0.0517 - accuracy: 0.9777\n",
            "Epoch 498/500\n",
            "35/35 [==============================] - 0s 2ms/step - loss: 0.0497 - accuracy: 0.9821\n",
            "Epoch 499/500\n",
            "35/35 [==============================] - 0s 2ms/step - loss: 0.0490 - accuracy: 0.9777\n",
            "Epoch 500/500\n",
            "35/35 [==============================] - 0s 1ms/step - loss: 0.0490 - accuracy: 0.9795\n"
          ],
          "name": "stdout"
        },
        {
          "output_type": "execute_result",
          "data": {
            "text/plain": [
              "<tensorflow.python.keras.callbacks.History at 0x7f0a69c48cf8>"
            ]
          },
          "metadata": {
            "tags": []
          },
          "execution_count": 58
        }
      ]
    },
    {
      "cell_type": "code",
      "metadata": {
        "id": "ugv6ynKg7KDe",
        "colab": {
          "base_uri": "https://localhost:8080/",
          "height": 51
        },
        "outputId": "c84c981e-9b5a-4af5-f693-48d8d9c9b762"
      },
      "source": [
        "# model evaluation\n",
        "loss, accuracy = classifier.evaluate(X_test, y_test)\n",
        "print('ANN Accuracy:', accuracy)"
      ],
      "execution_count": null,
      "outputs": [
        {
          "output_type": "stream",
          "text": [
            "7/7 [==============================] - 0s 1ms/step - loss: 1.8962 - accuracy: 0.6800\n",
            "ANN Accuracy: 0.6800000071525574\n"
          ],
          "name": "stdout"
        }
      ]
    },
    {
      "cell_type": "markdown",
      "metadata": {
        "id": "_0V6-Bon7pxO"
      },
      "source": [
        "We get an accuracy of 0.69 with our neural networks model. However, this is not better than our logistic regression accuracy score."
      ]
    },
    {
      "cell_type": "markdown",
      "metadata": {
        "id": "yrcsM3vI508Z"
      },
      "source": [
        "### <font color=\"green\">Challenge</font>"
      ]
    },
    {
      "cell_type": "code",
      "metadata": {
        "id": "_VWi_X6v508a"
      },
      "source": [
        "# Given the dataset in challenge 1, create a credit scoring model\n",
        "# to predict whether a customer will default or not using any of the\n",
        "# advanced machine learning techniques.\n",
        "# ---\n",
        "# Dataset URL = https://bit.ly/37FPsAF\n",
        "# ---\n",
        "# YOUR CODE GOES BELOW\n",
        "#"
      ],
      "execution_count": null,
      "outputs": []
    }
  ]
}